{
 "cells": [
  {
   "cell_type": "markdown",
   "metadata": {},
   "source": [
    "# Autonomy fleet visualization\n",
    "\n",
    "The objectives of this notebook are to :\n",
    "<ol>\n",
    "    <li> Download autonomy assets data </li>\n",
    "    <li> Show the current location of autonomy assets </li>\n",
    "    <li> Show the last profiles of the assets </li>\n",
    "    <li> Show the full depth/time transect of the assets </li>\n",
    "</ol>\n",
    "\n",
    "To run this notebook please refer to the readme of the github page (https://github.com/NOC-OBG-Autonomy/biocarbon_nrt_data_viz)."
   ]
  },
  {
   "cell_type": "markdown",
   "metadata": {},
   "source": [
    "## Download autonomy assets data"
   ]
  },
  {
   "cell_type": "code",
   "execution_count": null,
   "metadata": {},
   "outputs": [],
   "source": [
    "import pandas as pd\n",
    "import numpy as np\n",
    "import requests\n",
    "import shutil\n",
    "import os\n",
    "import gzip\n",
    "from pathlib import Path\n",
    "import re\n",
    "from tqdm import tqdm\n",
    "from urllib.request import urlretrieve\n",
    "import xarray as xr\n",
    "import matplotlib.patches as mpatches\n",
    "import matplotlib.pyplot as plt\n",
    "import seaborn as sns\n",
    "import geopandas as gpd\n",
    "from glob import glob"
   ]
  },
  {
   "cell_type": "markdown",
   "metadata": {},
   "source": [
    "We build the data repository structure. The data folder is not sync with git, so we need to create it if missing (i.e. first time your run this notebook on your computer)."
   ]
  },
  {
   "cell_type": "code",
   "execution_count": null,
   "metadata": {},
   "outputs": [],
   "source": [
    "def create_missing_directories():\n",
    "    # Define the path to the parent directory\n",
    "    parent_dir = os.path.abspath(os.path.join(os.getcwd(), os.pardir))\n",
    "\n",
    "    # Check if 'data' folder exists in the parent directory\n",
    "    data_dir = os.path.join(parent_dir, 'data')\n",
    "    if not os.path.exists(data_dir):\n",
    "        os.makedirs(data_dir)\n",
    "        print(\"'data' folder created in the parent directory.\")\n",
    "    else:\n",
    "        print(\"'data' folder already exists in the parent directory.\")\n",
    "\n",
    "    # Check if 'floats' directory exists inside 'data' folder\n",
    "    floats_dir = os.path.join(data_dir, 'Floats')\n",
    "    if not os.path.exists(floats_dir):\n",
    "        os.makedirs(floats_dir)\n",
    "        print(\"'floats' directory created inside 'data' folder.\")\n",
    "    else:\n",
    "        print(\"'floats' directory already exists inside 'data' folder.\")\n",
    "\n",
    "    # Check if 'gliders' directory exists inside 'data' folder\n",
    "    gliders_dir = os.path.join(data_dir, 'Gliders')\n",
    "    if not os.path.exists(gliders_dir):\n",
    "        os.makedirs(gliders_dir)\n",
    "        print(\"'gliders' directory created inside 'data' folder.\")\n",
    "    else:\n",
    "        print(\"'gliders' directory already exists inside 'data' folder.\")\n",
    "\n",
    "if __name__ == \"__main__\":\n",
    "    create_missing_directories()"
   ]
  },
  {
   "cell_type": "markdown",
   "metadata": {},
   "source": [
    "For now, we will visualize only test floats. One in the Icelandic bassin and the other in SO during the Custard cruise, which is a good test case as it has also gliders deployements.\n",
    "\n",
    "We don't automate in this script the retrieving of downloading url for the sake of simplicity. \n",
    "You can keep in mind that the list of float data and their repertory are findable here : https://data-argo.ifremer.fr/argo_synthetic-profile_index.tx"
   ]
  },
  {
   "cell_type": "code",
   "execution_count": null,
   "metadata": {},
   "outputs": [],
   "source": [
    "wmo_list = [4903532, 5906213]\n",
    "#Float 1 = test float in the Icelandic Bassin\n",
    "float_1_url = 'https://data-argo.ifremer.fr/dac/aoml/4903532/4903532_Sprof.nc'\n",
    "#Float 2 = test float on Custard with glider next to it\n",
    "float_2_url = 'https://data-argo.ifremer.fr/dac/aoml/5906213/5906213_Sprof.nc'\n",
    "\n",
    "#List the floats\n",
    "floats_url = [float_1_url, float_2_url]\n",
    "\n",
    "#Assign the local float directory\n",
    "parent_dir = os.path.abspath(os.path.join(os.getcwd(), os.pardir))\n",
    "floats_dir =  os.path.join(parent_dir, 'Data/Floats')\n",
    "\n",
    "#Create floats filename\n",
    "floats_filenames = []\n",
    "for i in floats_url:\n",
    "    filename = floats_dir + '/' + i.rsplit('/', 1)[1]\n",
    "    floats_filenames.append(filename)"
   ]
  },
  {
   "cell_type": "code",
   "execution_count": null,
   "metadata": {},
   "outputs": [],
   "source": [
    "#Download floats data. We do it everytime so we are sure to work with a DAC up to date version. \n",
    "#We could check with the synthetic profile index if it is needed to download a update.\n",
    "for url, filename in zip(floats_url, floats_filenames):\n",
    "    urlretrieve(url, filename)\n"
   ]
  },
  {
   "cell_type": "markdown",
   "metadata": {},
   "source": [
    "## Plot BGC-Argo locations"
   ]
  },
  {
   "cell_type": "markdown",
   "metadata": {},
   "source": [
    "### Icelandic Bassin float"
   ]
  },
  {
   "cell_type": "code",
   "execution_count": null,
   "metadata": {},
   "outputs": [],
   "source": [
    "print(wmo_list)"
   ]
  },
  {
   "cell_type": "code",
   "execution_count": null,
   "metadata": {},
   "outputs": [],
   "source": [
    "position_df = pd.DataFrame({'PROF_NUM' : str(), 'LONGITUDE' : [], 'LATITUDE' : [], 'float' : int()})\n",
    "for file, wmo in zip(floats_filenames, wmo_list):\n",
    "    dat = xr.open_dataset(file)\n",
    "    dat = dat.rename({'CYCLE_NUMBER':'PROF_NUM'}).swap_dims({'N_PROF':'PROF_NUM'})\n",
    "    temp_df = dat[['LONGITUDE', 'LATITUDE']].to_dataframe().reset_index()\n",
    "    temp_df['float'] = wmo\n",
    "    position_df = pd.concat([position_df, temp_df], ignore_index=True)\n",
    "    dat.close()\n",
    "    "
   ]
  },
  {
   "cell_type": "code",
   "execution_count": null,
   "metadata": {},
   "outputs": [],
   "source": [
    "# load the low resolution world map\n",
    "world = gpd.read_file(gpd.datasets.get_path(\"naturalearth_lowres\"))"
   ]
  },
  {
   "cell_type": "code",
   "execution_count": null,
   "metadata": {},
   "outputs": [],
   "source": [
    "# initialize an empty figure and add an axis\n",
    "fig = plt.figure(figsize=(20, 10))\n",
    "ax = fig.add_subplot()\n",
    "\n",
    "# plot a basic map of the world\n",
    "world.plot(\n",
    "    ax=ax,\n",
    "    color=\"lightgray\",\n",
    "    edgecolor=\"black\",\n",
    "    alpha=0.5\n",
    ")\n",
    "\n",
    "plt.scatter(position_df['LONGITUDE'], position_df['LATITUDE'], c = position_df['PROF_NUM'])\n",
    "\n",
    "# turn off axis ticks\n",
    "ax.set_xticks([])\n",
    "ax.set_yticks([])\n",
    "\n",
    "#set the plot color bar\n",
    "cbar = plt.colorbar(label='Profile Number')\n",
    "cbar.set_label('Profile Number', rotation=270, labelpad=15)\n",
    "\n",
    "# set the plot title\n",
    "plt.title(\"Map of the BGC-Argo floats\")\n",
    "plt.show()"
   ]
  },
  {
   "cell_type": "markdown",
   "metadata": {},
   "source": [
    "Zoom on the Icelandic bassin"
   ]
  },
  {
   "cell_type": "code",
   "execution_count": null,
   "metadata": {},
   "outputs": [],
   "source": [
    "# initialize an empty figure and add an axis\n",
    "fig = plt.figure(figsize=(20, 10))\n",
    "ax = fig.add_subplot()\n",
    "\n",
    "# plot a basic map of the world\n",
    "world.plot(\n",
    "    ax=ax,\n",
    "    color=\"lightgray\",\n",
    "    edgecolor=\"black\",\n",
    "    alpha=0.5\n",
    ")\n",
    "\n",
    "iceland_df = position_df[position_df['float'] == 4903532]\n",
    "plt.scatter(iceland_df['LONGITUDE'], iceland_df['LATITUDE'], c = iceland_df['PROF_NUM'])\n",
    "plt.plot(iceland_df['LONGITUDE'], iceland_df['LATITUDE'], c = 'black')\n",
    "\n",
    "#set boundaries\n",
    "min_lon = min(iceland_df['LONGITUDE'])\n",
    "max_lon = max(iceland_df['LONGITUDE'])\n",
    "\n",
    "min_lat = min(iceland_df['LATITUDE'])\n",
    "max_lat = max(iceland_df['LATITUDE'])\n",
    "\n",
    "# turn off axis ticks\n",
    "ax.set_xticks([])\n",
    "ax.set_yticks([])\n",
    "\n",
    "plt.xlim([min_lon - 3, max_lon + 3])\n",
    "plt.ylim([min_lat - 1, max_lat + 1])\n",
    "plt.gca().set_aspect('equal', adjustable='datalim')\n",
    "\n",
    "#set the plot color bar\n",
    "cbar = plt.colorbar(label='Profile Number')\n",
    "cbar.set_label('Profile Number', rotation=270, labelpad=15)\n",
    "\n",
    "# set the plot title\n",
    "plt.title(\"Map of the BGC-Argo floats\")\n",
    "plt.show()"
   ]
  },
  {
   "cell_type": "code",
   "execution_count": null,
   "metadata": {},
   "outputs": [],
   "source": [
    "bath_directory = parent_dir + '/Data/' + \"ne_10m_bathymetry_all/\"\n",
    "def load_bathymetry(zip_file_url):\n",
    "    \"\"\"Read zip file from Natural Earth containing bathymetry shapefiles\"\"\"\n",
    "    # Download and extract shapefiles\n",
    "    import io\n",
    "    import zipfile\n",
    "\n",
    "    r = requests.get(zip_file_url)\n",
    "    z = zipfile.ZipFile(io.BytesIO(r.content))\n",
    "    z.extractall(bath_directory)\n",
    "\n",
    "    # Read shapefiles, sorted by depth\n",
    "    shp_dict = {}\n",
    "    files = glob(bath_directory + '*.shp')\n",
    "    assert len(files) > 0\n",
    "    files.sort()\n",
    "    depths = []\n",
    "    for f in files:\n",
    "        depth = '-' + f.split('_')[-1].split('.')[0]  # depth from file name\n",
    "        depths.append(depth)\n",
    "        bbox = (min_lon - 3, max_lon + 3,min_lat - 1, max_lat + 1)  # (x0, y0, x1, y1)\n",
    "        nei = shpreader.Reader(f, bbox=bbox)\n",
    "        shp_dict[depth] = nei\n",
    "    depths = np.array(depths)[::-1]  # sort from surface to bottom\n",
    "    return depths, shp_dict"
   ]
  },
  {
   "cell_type": "code",
   "execution_count": null,
   "metadata": {},
   "outputs": [],
   "source": [
    "import cartopy.crs as ccrs\n",
    "import cartopy.feature as cfeature\n",
    "import cartopy.io.shapereader as shpreader\n",
    "import matplotlib\n",
    "if __name__ == \"__main__\":\n",
    "    # Load data (14.8 MB file)\n",
    "    depths_str, shp_dict = load_bathymetry(\n",
    "        'https://naturalearth.s3.amazonaws.com/' +\n",
    "        '10m_physical/ne_10m_bathymetry_all.zip')\n",
    "\n",
    "    # Construct a discrete colormap with colors corresponding to each depth\n",
    "    depths = depths_str.astype(int)\n",
    "    N = len(depths)\n",
    "    nudge = 0.01  # shift bin edge slightly to include data\n",
    "    boundaries = [min(depths)] + sorted(depths+nudge)  # low to high\n",
    "    norm = matplotlib.colors.BoundaryNorm(boundaries, N)\n",
    "    blues_cm = matplotlib.colormaps['Blues_r'].resampled(N)\n",
    "    colors_depths = blues_cm(norm(depths))\n",
    "\n",
    "    # Set up plot\n",
    "    subplot_kw = {'projection': ccrs.LambertCylindrical()}\n",
    "    fig, ax = plt.subplots(subplot_kw=subplot_kw, figsize=(9, 7))\n",
    "    ax.set_extent([min_lon - 3, max_lon + 3,min_lat - 5, max_lat + 5], crs=ccrs.PlateCarree())  # x0, x1, y0, y1\n",
    "\n",
    "    # Iterate and plot feature for each depth level\n",
    "    for i, depth_str in enumerate(depths_str):\n",
    "        ax.add_geometries(shp_dict[depth_str].geometries(),\n",
    "                          crs=ccrs.PlateCarree(),\n",
    "                          color=colors_depths[i])\n",
    "\n",
    "    # Add standard features\n",
    "    #ax.add_feature(cfeature.LAND, color='grey')\n",
    "    ax.coastlines(lw=1, resolution='110m')\n",
    "    ax.gridlines(draw_labels=False)\n",
    "    ax.set_position([0.03, 0.05, 0.8, 0.9])\n",
    "\n",
    "    \n",
    "    # Convert vector bathymetries to raster (saves a lot of disk space)\n",
    "    # while leaving labels as vectors\n",
    "    ax.set_rasterized(True)\n",
    "    plt.scatter(iceland_df['LONGITUDE'], iceland_df['LATITUDE'], c = iceland_df['PROF_NUM'])\n",
    "    plt.plot(iceland_df['LONGITUDE'], iceland_df['LATITUDE'], c = 'black')\n"
   ]
  }
 ],
 "metadata": {
  "kernelspec": {
   "display_name": "nrt_env",
   "language": "python",
   "name": "python3"
  },
  "language_info": {
   "codemirror_mode": {
    "name": "ipython",
    "version": 3
   },
   "file_extension": ".py",
   "mimetype": "text/x-python",
   "name": "python",
   "nbconvert_exporter": "python",
   "pygments_lexer": "ipython3",
   "version": "3.12.2"
  }
 },
 "nbformat": 4,
 "nbformat_minor": 2
}
