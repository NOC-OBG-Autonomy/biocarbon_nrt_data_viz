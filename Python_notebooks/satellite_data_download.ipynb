{
 "cells": [
  {
   "cell_type": "markdown",
   "metadata": {},
   "source": [
    "\n",
    "Load python packages."
   ]
  },
  {
   "cell_type": "code",
   "execution_count": 1,
   "metadata": {},
   "outputs": [],
   "source": [
    "# I think a lot of these are unnecessary!\n",
    "import os\n",
    "import copernicusmarine as cpm\n",
    "from pathlib import Path\n",
    "import ast\n",
    "from datetime import datetime"
   ]
  },
  {
   "cell_type": "markdown",
   "metadata": {},
   "source": [
    "Create directories to store data"
   ]
  },
  {
   "cell_type": "code",
   "execution_count": 2,
   "metadata": {},
   "outputs": [
    {
     "name": "stdout",
     "output_type": "stream",
     "text": [
      "'data' folder already exists in the parent directory.\n",
      "'satellite' directory already exists inside 'data' folder.\n"
     ]
    }
   ],
   "source": [
    "def create_missing_directories():\n",
    "    # Define the path to the parent directory\n",
    "    parent_dir = os.path.abspath(os.path.join(os.getcwd(), os.pardir))\n",
    "\n",
    "    # Check if 'data' folder exists in the parent directory\n",
    "    data_dir = os.path.join(parent_dir, 'data')\n",
    "    if not os.path.exists(data_dir):\n",
    "        os.makedirs(data_dir)\n",
    "        print(\"'data' folder created in the parent directory.\")\n",
    "    else:\n",
    "        print(\"'data' folder already exists in the parent directory.\")\n",
    "\n",
    "    # Check if 'satellite' directory exists inside 'data' folder\n",
    "    satellite_dir = os.path.join(data_dir, 'satellite')\n",
    "    if not os.path.exists(satellite_dir):\n",
    "        os.makedirs(satellite_dir)\n",
    "        print(\"'satellite' directory created inside 'data' folder.\")\n",
    "    else:\n",
    "        print(\"'satellite' directory already exists inside 'data' folder.\")\n",
    "\n",
    "if __name__ == \"__main__\":\n",
    "    create_missing_directories()"
   ]
  },
  {
   "cell_type": "markdown",
   "metadata": {},
   "source": [
    "If it is the first time running copernicusmarine module on this machine, login using the terminal with:\n",
    "<code><pre>copernicusmarine login</code></pre>\n",
    "And enter your credentials. You will need an account already to do this. (https://data.marine.copernicus.eu/register) </br>\n",
    "This will store a credential file locally, you should only have to do this once per machine.\n",
    "\n",
    "When changing the catalogue search term, use the name of the product you'd like, e.g., from this domain, (https://data.marine.copernicus.eu/product/OCEANCOLOUR_ATL_BGC_L3_NRT_009_111/services), any of the named Dataset ID's"
   ]
  },
  {
   "cell_type": "code",
   "execution_count": 28,
   "metadata": {},
   "outputs": [],
   "source": [
    "#dataset_to_extract = 'cmems_obs-oc_atl_bgc-plankton_nrt_l3-multi-1km_P1D' # for chla\n",
    "\n",
    "#dataset_to_extract = 'cmems_obs-oc_atl_bgc-optic_nrt_l3-multi-1km_P1D' # for bbp\n",
    "\n",
    "dataset_to_extract = 'cmems_obs-sl_eur_phy-ssh_nrt_allsat-l4-duacs-0.125deg_P1D' #for current"
   ]
  },
  {
   "cell_type": "markdown",
   "metadata": {},
   "source": [
    "Note directories you wish to store data in, set bounds for time, space, depth"
   ]
  },
  {
   "cell_type": "code",
   "execution_count": 13,
   "metadata": {},
   "outputs": [],
   "source": [
    "parent_dir    = os.path.abspath(os.path.join(os.getcwd(), os.pardir))\n",
    "data_dir      = os.path.join(parent_dir, 'data')\n",
    "satellite_dir = os.path.join(data_dir, 'satellite')\n",
    "\n",
    "#variables_to_extract = [var_to_extract] # Input for variable must be list\n",
    "\n",
    "start_time = \"2024-04-20T00:00:00\" # Format time as YYYY-MM-DD\"T\"HH:MM:SS ,without T in parenthesis\n",
    "\n",
    "# Get the current date and time\n",
    "now = datetime.now()\n",
    "# Format the date and time\n",
    "formatted_date = now.strftime(\"%Y-%m-%dT%H:%M:%S\")\n",
    "#set it as the end time\n",
    "end_time   = formatted_date\n",
    "\n",
    "min_depth = 0 # Primarily interested in surface values only. Will flag if outside of range of product\n",
    "max_depth = 1\n",
    "\n",
    "min_lon = -35\n",
    "max_lon = -5\n",
    "min_lat = 55\n",
    "max_lat = 66\n",
    "\n",
    "saved_netCDF_as = \"CMEMS_Iceland_Basin_SSH_April-May2024.nc\" # This changes the name of the output file."
   ]
  },
  {
   "cell_type": "code",
   "execution_count": 29,
   "metadata": {},
   "outputs": [
    {
     "name": "stdout",
     "output_type": "stream",
     "text": [
      "INFO - 2024-05-20T09:38:19Z - Dataset version was not specified, the latest one was selected: \"202311\"\n",
      "INFO - 2024-05-20T09:38:19Z - Dataset part was not specified, the first one was selected: \"default\"\n",
      "INFO - 2024-05-20T09:38:23Z - Service was not specified, the default one was selected: \"arco-geo-series\"\n",
      "WARNING - 2024-05-20T09:38:27Z - Some or all of your subset selection [-35.0, -5.0] for the longitude dimension  exceed the dataset coordinates [-30.0625, 42.0625]\n",
      "WARNING - 2024-05-20T09:38:27Z - Some or all of your subset selection [2024-04-20 00:00:00, 2024-05-20 10:31:30] for the time dimension  exceed the dataset coordinates [2022-01-01 00:00:00, 2024-05-20 00:00:00]\n",
      "INFO - 2024-05-20T09:38:27Z - Downloading using service arco-geo-series...\n",
      "INFO - 2024-05-20T09:38:31Z - <xarray.Dataset> Size: 44MB\n",
      "Dimensions:    (time: 31, latitude: 88, longitude: 201, nv: 2)\n",
      "Coordinates:\n",
      "    lat_bnds   (latitude, nv) float32 704B dask.array<chunksize=(88, 2), meta=np.ndarray>\n",
      "  * latitude   (latitude) float32 352B 55.06 55.19 55.31 ... 65.69 65.81 65.94\n",
      "    lon_bnds   (longitude, nv) float32 2kB dask.array<chunksize=(201, 2), meta=np.ndarray>\n",
      "  * longitude  (longitude) float32 804B -30.06 -29.94 -29.81 ... -5.188 -5.062\n",
      "  * nv         (nv) int32 8B 0 1\n",
      "  * time       (time) datetime64[ns] 248B 2024-04-20 2024-04-21 ... 2024-05-20\n",
      "Data variables:\n",
      "    adt        (time, latitude, longitude) float64 4MB dask.array<chunksize=(2, 88, 201), meta=np.ndarray>\n",
      "    err_sla    (time, latitude, longitude) float64 4MB dask.array<chunksize=(2, 88, 201), meta=np.ndarray>\n",
      "    err_ugosa  (time, latitude, longitude) float64 4MB dask.array<chunksize=(2, 88, 201), meta=np.ndarray>\n",
      "    err_vgosa  (time, latitude, longitude) float64 4MB dask.array<chunksize=(2, 88, 201), meta=np.ndarray>\n",
      "    flag_ice   (time, latitude, longitude) float64 4MB dask.array<chunksize=(2, 88, 201), meta=np.ndarray>\n",
      "    sla        (time, latitude, longitude) float64 4MB dask.array<chunksize=(2, 88, 201), meta=np.ndarray>\n",
      "    ugos       (time, latitude, longitude) float64 4MB dask.array<chunksize=(2, 88, 201), meta=np.ndarray>\n",
      "    ugosa      (time, latitude, longitude) float64 4MB dask.array<chunksize=(2, 88, 201), meta=np.ndarray>\n",
      "    vgos       (time, latitude, longitude) float64 4MB dask.array<chunksize=(2, 88, 201), meta=np.ndarray>\n",
      "    vgosa      (time, latitude, longitude) float64 4MB dask.array<chunksize=(2, 88, 201), meta=np.ndarray>\n",
      "Attributes: (12/45)\n",
      "    Conventions:                     CF-1.6\n",
      "    Metadata_Conventions:            Unidata Dataset Discovery v1.0\n",
      "    cdm_data_type:                   Grid\n",
      "    comment:                         Sea Surface Height measured by Altimetry...\n",
      "    contact:                         servicedesk.cmems@mercator-ocean.eu\n",
      "    creator_email:                   servicedesk.cmems@mercator-ocean.eu\n",
      "    ...                              ...\n",
      "    time_coverage_duration:          P1D\n",
      "    time_coverage_end:               2023-11-24T12:00:00Z\n",
      "    time_coverage_resolution:        P1D\n",
      "    time_coverage_start:             2023-11-23T12:00:00Z\n",
      "    title:                           NRT merged all satellites European Seas ...\n",
      "    copernicusmarine_version:        1.2.2\n",
      "INFO - 2024-05-20T09:38:31Z - Estimated size of the dataset file is 83.714 MB.\n",
      "Do you want to proceed with download? [Y/n]:Error: invalid input\n",
      "Do you want to proceed with download? [Y/n]:INFO - 2024-05-20T09:45:34Z - Writing to local storage. Please wait...\n"
     ]
    },
    {
     "data": {
      "application/vnd.jupyter.widget-view+json": {
       "model_id": "e29663770d15401bab02cfacd7b0948f",
       "version_major": 2,
       "version_minor": 0
      },
      "text/plain": [
       "  0%|          | 0/648 [00:00<?, ?it/s]"
      ]
     },
     "metadata": {},
     "output_type": "display_data"
    },
    {
     "name": "stdout",
     "output_type": "stream",
     "text": [
      "INFO - 2024-05-20T09:45:44Z - Successfully downloaded to c:\\Users\\flapet\\OneDrive - NOC\\Documents\\NRT_viz\\biocarbon_nrt_data_viz\\data\\satellite\\CMEMS_Iceland_Basin_SSH_April-May2024.nc\n"
     ]
    },
    {
     "data": {
      "text/plain": [
       "WindowsPath('c:/Users/flapet/OneDrive - NOC/Documents/NRT_viz/biocarbon_nrt_data_viz/data/satellite/CMEMS_Iceland_Basin_SSH_April-May2024.nc')"
      ]
     },
     "execution_count": 29,
     "metadata": {},
     "output_type": "execute_result"
    }
   ],
   "source": [
    "cpm.subset(dataset_id=dataset_to_extract,\n",
    "  minimum_longitude= min_lon,\n",
    "  maximum_longitude= max_lon,\n",
    "  minimum_latitude= min_lat,\n",
    "  maximum_latitude= max_lat,\n",
    "  start_datetime=start_time,\n",
    "  end_datetime=end_time,\n",
    "  minimum_depth=min_depth,\n",
    "  maximum_depth=max_depth,\n",
    "  output_filename = saved_netCDF_as,\n",
    "  output_directory = satellite_dir)"
   ]
  }
 ],
 "metadata": {
  "kernelspec": {
   "display_name": "Python 3",
   "language": "python",
   "name": "python3"
  },
  "language_info": {
   "codemirror_mode": {
    "name": "ipython",
    "version": 3
   },
   "file_extension": ".py",
   "mimetype": "text/x-python",
   "name": "python",
   "nbconvert_exporter": "python",
   "pygments_lexer": "ipython3",
   "version": "3.12.2"
  }
 },
 "nbformat": 4,
 "nbformat_minor": 2
}
