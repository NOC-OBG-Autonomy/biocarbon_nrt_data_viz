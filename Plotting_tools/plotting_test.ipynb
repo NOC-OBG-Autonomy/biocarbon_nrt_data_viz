{
 "cells": [
  {
   "cell_type": "code",
   "execution_count": 14,
   "metadata": {},
   "outputs": [],
   "source": [
    "import pandas as pd\n",
    "import matplotlib.pyplot as plt\n",
    "import numpy as np\n",
    "import requests\n",
    "import plotting_functions\n",
    "import os\n",
    "import yaml"
   ]
  },
  {
   "cell_type": "code",
   "execution_count": 4,
   "metadata": {},
   "outputs": [],
   "source": [
    "\n",
    "config_link = open('config.yml', 'r')\n",
    "config = yaml.safe_load(config_link)\n"
   ]
  },
  {
   "cell_type": "code",
   "execution_count": 11,
   "metadata": {},
   "outputs": [],
   "source": [
    "#Load dnavis float data\n",
    "parent_dir    = os.path.abspath(os.path.join(os.getcwd(), os.pardir))\n",
    "data_dir      = os.path.join(parent_dir, 'data')\n",
    "navis_dir = os.path.join(data_dir, 'navis')\n",
    "\n",
    "df = pd.read_csv(os.path.join(navis_dir, 'merged_table'))\n"
   ]
  },
  {
   "cell_type": "markdown",
   "metadata": {},
   "source": [
    "Read the Argo float nc and create a dataframe for plotting"
   ]
  },
  {
   "cell_type": "code",
   "execution_count": 20,
   "metadata": {},
   "outputs": [],
   "source": [
    "wmo_list = df['float'].unique()\n",
    "df['JULD'] = pd.to_datetime(df['JULD'], errors='coerce')"
   ]
  },
  {
   "cell_type": "code",
   "execution_count": null,
   "metadata": {},
   "outputs": [],
   "source": [
    "i = 20\n",
    "float_wmo = wmo_list[0]\n",
    "data = df[df['float'] == float_wmo]\n",
    "data = data[data['prof'] <= i]\n",
    "last_date = max(data['JULD'])\n",
    "\n",
    "last_df = data[data['JULD'] == last_date]\n",
    "early_df = data[data['JULD'] != last_date]\n",
    "\n",
    "if len(early_df.index) > 0 :\n",
    "    alphas = (early_df['prof'] + 1 - min(early_df['prof']) + 1)/(max(early_df['prof']) + 1 - min(early_df['prof']) + 1)\n",
    "\n",
    "    fig = plt.figure(figsize=(20, 10))\n",
    "    ax = fig.add_subplot()\n",
    "\n",
    "    sc2 = ax.scatter( early_df['Fchl'], - (early_df['pres']), alpha = alphas, c = 'grey')\n",
    "    sc = ax.scatter( last_df['Fchl'], - (last_df['pres']), c = 'black')\n",
    "\n",
    "    ax.set_xlim(left = 0)\n",
    "    ax.set_ylim(-1000, 0)\n",
    "\n",
    "    # set the plot title\n",
    "    ax.set_title('Float wmo : ' + float_wmo + \"\\n\" + 'Fchl' + \" profile : \" + last_date.strftime(\"%Y-%m-%d %H:%M:%S\"))\n",
    "else :\n",
    "    fig = plt.figure(figsize=(20, 10))\n",
    "    ax = fig.add_subplot()\n",
    "\n",
    "    sc = ax.scatter( last_df['Fchl'], - (last_df['pres']), c = 'black')\n",
    "    ax.set_title('Float wmo : ' + float_wmo + \"\\n\" + 'Fchl' + \"first profile : \" + last_date.strftime(\"%Y-%m-%d %H:%M:%S\"))\n",
    "    #set the plot filename\n",
    "filename = 'Output/Plots/' + float_wmo + '/' + 'Fchl' + '/' + 'Fchl_' + last_date.strftime(\"%Y-%m-%d\") + '_' + float_wmo + '.png'\n",
    "print(filename)\n",
    "plt.show()\n",
    "plt.close()"
   ]
  },
  {
   "cell_type": "code",
   "execution_count": null,
   "metadata": {},
   "outputs": [],
   "source": []
  }
 ],
 "metadata": {
  "kernelspec": {
   "display_name": "nrt_env",
   "language": "python",
   "name": "python3"
  },
  "language_info": {
   "codemirror_mode": {
    "name": "ipython",
    "version": 3
   },
   "file_extension": ".py",
   "mimetype": "text/x-python",
   "name": "python",
   "nbconvert_exporter": "python",
   "pygments_lexer": "ipython3",
   "version": "3.12.2"
  }
 },
 "nbformat": 4,
 "nbformat_minor": 2
}
