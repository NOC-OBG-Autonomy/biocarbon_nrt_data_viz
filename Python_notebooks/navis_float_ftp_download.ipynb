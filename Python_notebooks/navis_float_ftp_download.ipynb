{
 "cells": [
  {
   "cell_type": "code",
   "execution_count": 1,
   "metadata": {},
   "outputs": [],
   "source": [
    "import paramiko\n",
    "import functools\n",
    "import os\n",
    "from tqdm import tqdm"
   ]
  },
  {
   "cell_type": "code",
   "execution_count": 8,
   "metadata": {},
   "outputs": [],
   "source": [
    "# Open a transport\n",
    "host,port = \"rudics.thorium.cls.fr\",22\n",
    "transport = paramiko.Transport((host,port))\n",
    "\n",
    "# Auth\n",
    "#username,password = \"s_f1102\",\"hckrJHGY\"\n",
    "username,password = \"s_f1101\",\"KhuBGFTj\"\n",
    "transport.connect(None,username,password)"
   ]
  },
  {
   "cell_type": "code",
   "execution_count": null,
   "metadata": {},
   "outputs": [],
   "source": [
    "\n",
    "# Create an SFTP session\n",
    "sftp = paramiko.SFTPClient.from_transport(transport)\n",
    "\n",
    "# List files in the root directory or any specific directory\n",
    "directory = '/'  # Change this to your target directory\n",
    "files = sftp.listdir(directory)\n",
    "\n",
    "# Print the list of files\n",
    "print(f\"Files in {directory}:\")\n",
    "for file in files:\n",
    "    print(file)\n"
   ]
  },
  {
   "cell_type": "code",
   "execution_count": 10,
   "metadata": {},
   "outputs": [],
   "source": [
    "parent_dir    = os.path.abspath(os.path.join(os.getcwd(), os.pardir))\n",
    "data_dir      = os.path.join(parent_dir, 'Data')\n",
    "navis_dir = os.path.join(data_dir, 'navis')\n",
    "navis_101 = os.path.join(navis_dir, 'navis_101')\n",
    "navis_102 = os.path.join(navis_dir, 'navis_102')"
   ]
  },
  {
   "cell_type": "code",
   "execution_count": 11,
   "metadata": {},
   "outputs": [],
   "source": [
    "if not os.path.exists(navis_dir):\n",
    "    os.makedirs(navis_dir)\n",
    "if not os.path.exists(navis_101):\n",
    "    os.makedirs(navis_101)\n",
    "if not os.path.exists(navis_102):\n",
    "    os.makedirs(navis_102)"
   ]
  },
  {
   "cell_type": "code",
   "execution_count": 12,
   "metadata": {},
   "outputs": [
    {
     "name": "stderr",
     "output_type": "stream",
     "text": [
      "100%|██████████| 89/89 [00:20<00:00,  4.28it/s]"
     ]
    },
    {
     "name": "stdout",
     "output_type": "stream",
     "text": [
      "Download complete.\n"
     ]
    },
    {
     "name": "stderr",
     "output_type": "stream",
     "text": [
      "\n"
     ]
    }
   ],
   "source": [
    "msg_files = [file for file in files if file.endswith('.msg')]\n",
    "# Download each .msg file\n",
    "for msg_file in tqdm(msg_files):\n",
    "    local_path = os.path.join(navis_101, msg_file)\n",
    "    remote_path = os.path.join(directory, msg_file)\n",
    "    \n",
    "    sftp.get(remote_path, local_path)\n",
    "\n",
    "print(\"Download complete.\")"
   ]
  },
  {
   "cell_type": "code",
   "execution_count": 15,
   "metadata": {},
   "outputs": [],
   "source": [
    "sftp.close()"
   ]
  }
 ],
 "metadata": {
  "kernelspec": {
   "display_name": "nrt_env",
   "language": "python",
   "name": "python3"
  },
  "language_info": {
   "codemirror_mode": {
    "name": "ipython",
    "version": 3
   },
   "file_extension": ".py",
   "mimetype": "text/x-python",
   "name": "python",
   "nbconvert_exporter": "python",
   "pygments_lexer": "ipython3",
   "version": "3.12.3"
  }
 },
 "nbformat": 4,
 "nbformat_minor": 2
}
