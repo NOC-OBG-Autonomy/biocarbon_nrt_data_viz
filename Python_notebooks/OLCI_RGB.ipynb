{
 "cells": [
  {
   "cell_type": "code",
   "execution_count": 1,
   "metadata": {},
   "outputs": [],
   "source": [
    "import eumdac\n",
    "import datetime\n",
    "import shutil\n",
    "from tqdm import tqdm"
   ]
  },
  {
   "cell_type": "code",
   "execution_count": 2,
   "metadata": {},
   "outputs": [
    {
     "name": "stdout",
     "output_type": "stream",
     "text": [
      "This token 'b8facbfb-d9a7-33aa-9dbc-aa8089eac1db' expires 2024-06-17 09:50:47.173916\n"
     ]
    }
   ],
   "source": [
    "consumer_key = '9dcHtMpRngCEnHBtZX4iOZL7s5Qa'\n",
    "consumer_secret = 'FfJCsfRfPPOThUvOYfBEFkPzxCwa'\n",
    "credentials = (consumer_key, consumer_secret)\n",
    "token = eumdac.AccessToken(credentials)\n",
    "print(f\"This token '{token}' expires {token.expiration}\")"
   ]
  },
  {
   "cell_type": "code",
   "execution_count": 3,
   "metadata": {},
   "outputs": [
    {
     "name": "stdout",
     "output_type": "stream",
     "text": [
      "EO:EUM:DAT:MSG:CLM-IODC\n",
      "EO:EUM:DAT:0394\n",
      "EO:EUM:DAT:0412\n",
      "EO:EUM:DAT:0857\n",
      "EO:EUM:DAT:0862\n",
      "EO:EUM:DAT:0882\n",
      "EO:EUM:DAT:METOP:ASCSZF1B\n",
      "EO:EUM:DAT:METOP:ASCSZR1B\n",
      "EO:EUM:DAT:MSG:MSG15-RSS\n",
      "EO:EUM:DAT:0855\n",
      "EO:EUM:DAT:0836\n",
      "EO:EUM:CM:METOP:ASCSZFR02\n",
      "EO:EUM:DAT:0081\n",
      "EO:EUM:DAT:0398\n",
      "EO:EUM:DAT:0405\n",
      "EO:EUM:DAT:0406\n",
      "EO:EUM:DAT:0410\n",
      "EO:EUM:DAT:0413\n",
      "EO:EUM:DAT:0415\n",
      "EO:EUM:DAT:0416\n",
      "EO:EUM:DAT:0239\n",
      "EO:EUM:DAT:0301\n",
      "EO:EUM:DAT:0617\n",
      "EO:EUM:DAT:0856\n",
      "EO:EUM:DAT:METOP:ASCSZO1B\n",
      "EO:EUM:DAT:METOP:GOMEL1\n",
      "EO:EUM:DAT:0647\n",
      "EO:EUM:DAT:0851\n",
      "EO:EUM:DAT:0835\n",
      "EO:EUM:DAT:0833\n",
      "EO:EUM:DAT:0880\n",
      "EO:EUM:DAT:0237\n",
      "EO:EUM:DAT:0241\n",
      "EO:EUM:DAT:0274\n",
      "EO:EUM:DAT:0082\n",
      "EO:EUM:DAT:0584\n",
      "EO:EUM:DAT:MULT:HIRSL1\n",
      "EO:EUM:DAT:METOP:GLB-SST-NC\n",
      "EO:EUM:DAT:MSG:CLM\n",
      "EO:EUM:DAT:0302\n",
      "EO:EUM:DAT:0236\n",
      "EO:EUM:DAT:0408\n",
      "EO:EUM:DAT:0409\n",
      "EO:EUM:DAT:0558\n",
      "EO:EUM:DAT:METOP:OSI-150-A\n",
      "EO:EUM:DAT:METOP:OSI-150-B\n",
      "EO:EUM:DAT:MSG:RSS-CLM\n",
      "EO:EUM:DAT:0615\n",
      "EO:EUM:DAT:0858\n",
      "EO:EUM:DAT:0859\n",
      "EO:EUM:DAT:0839\n",
      "EO:EUM:DAT:0841\n",
      "EO:EUM:DAT:0834\n",
      "EO:EUM:CM:METOP:ASCSZOR02\n",
      "EO:EUM:CM:METOP:ASCSZRR02\n",
      "EO:EUM:DAT:0088\n",
      "EO:EUM:DAT:0143\n",
      "EO:EUM:DAT:0142\n",
      "EO:EUM:DAT:0238\n",
      "EO:EUM:DAT:0374\n",
      "EO:EUM:DAT:0601\n",
      "EO:EUM:DAT:0837\n",
      "EO:EUM:DAT:0838\n",
      "EO:EUM:DAT:0840\n",
      "EO:EUM:DAT:0758\n",
      "EO:EUM:DAT:0556\n",
      "EO:EUM:DAT:0557\n",
      "EO:EUM:DAT:0576\n",
      "EO:EUM:DAT:0579\n",
      "EO:EUM:DAT:0581\n",
      "EO:EUM:DAT:0583\n",
      "EO:EUM:DAT:0585\n",
      "EO:EUM:DAT:0300\n",
      "EO:EUM:DAT:0407\n",
      "EO:EUM:DAT:0411\n",
      "EO:EUM:DAT:0417\n",
      "EO:EUM:DAT:0853\n",
      "EO:EUM:DAT:0854\n",
      "EO:EUM:DAT:METOP:IASIL1C-ALL\n",
      "EO:EUM:DAT:METOP:IASSND02\n",
      "EO:EUM:DAT:0881\n",
      "EO:EUM:DAT:0080\n",
      "EO:EUM:DAT:0240\n",
      "EO:EUM:DAT:0414\n",
      "EO:EUM:DAT:0577\n",
      "EO:EUM:DAT:0578\n",
      "EO:EUM:DAT:0582\n",
      "EO:EUM:DAT:0586\n",
      "EO:EUM:DAT:0533\n",
      "EO:EUM:DAT:MSG:HRSEVIRI-IODC\n",
      "EO:EUM:DAT:MSG:HRSEVIRI\n",
      "EO:EUM:DAT:METOP:MHSL1\n",
      "EO:EUM:DAT:0645\n",
      "EO:EUM:DAT:0850\n",
      "EO:EUM:DAT:0852\n",
      "EO:EUM:DAT:0842\n",
      "EO:EUM:DAT:METOP:LSA-002\n",
      "EO:EUM:DAT:METOP:OSI-104\n",
      "EO:EUM:DAT:METOP:SOMO12\n",
      "EO:EUM:DAT:METOP:SOMO25\n",
      "EO:EUM:DAT:DMSP:OSI-401-B\n",
      "EO:EUM:DAT:METOP:AMSUL1\n",
      "EO:EUM:DAT:METOP:AVHRRL1\n"
     ]
    }
   ],
   "source": [
    "datastore = eumdac.DataStore(token)\n",
    "for collection in datastore.collections:\n",
    "    print(collection)"
   ]
  },
  {
   "cell_type": "code",
   "execution_count": 4,
   "metadata": {},
   "outputs": [],
   "source": [
    "selected_collection = datastore.get_collection('EO:EUM:DAT:0410')"
   ]
  },
  {
   "cell_type": "code",
   "execution_count": 9,
   "metadata": {},
   "outputs": [
    {
     "name": "stdout",
     "output_type": "stream",
     "text": [
      "Found Datasets: 4 datasets for the given time range\n",
      "S3A_OL_1_ERR____20240616T130743_20240616T135209_20240616T152804_2666_113_295______MAR_O_NR_002.SEN3\n",
      "S3B_OL_1_ERR____20240616T122852_20240616T131318_20240616T144953_2666_094_152______MAR_O_NR_002.SEN3\n",
      "S3A_OL_1_ERR____20240616T112644_20240616T121110_20240616T135146_2666_113_294______MAR_O_NR_002.SEN3\n",
      "S3B_OL_1_ERR____20240616T104753_20240616T113219_20240616T131225_2666_094_151______MAR_O_NR_002.SEN3\n"
     ]
    }
   ],
   "source": [
    "# Add vertices for polygon, wrapping back to the start point.\n",
    "\n",
    "min_lat = 55.5\n",
    "max_lat = 64.5\n",
    "min_lon = -30\n",
    "max_lon = -15\n",
    "\n",
    "geometry = [[min_lon, min_lat],[min_lon, max_lat],[max_lon, max_lat],[max_lon, min_lat],[min_lon, min_lat]]\n",
    "# Set sensing start and end time\n",
    "start = datetime.datetime(2024, 6, 16)\n",
    "end = datetime.datetime(2024, 6, 17)\n",
    "# Retrieve datasets that match our filter\n",
    "products = selected_collection.search(\n",
    "    geo='POLYGON(({}))'.format(','.join([\"{} {}\".format(*coord) for coord in geometry])),\n",
    "    dtstart=start, \n",
    "    dtend=end)\n",
    "    \n",
    "print(f'Found Datasets: {products.total_results} datasets for the given time range')\n",
    "for product in products:\n",
    "    print(str(product))\n"
   ]
  },
  {
   "cell_type": "code",
   "execution_count": 10,
   "metadata": {},
   "outputs": [
    {
     "name": "stdout",
     "output_type": "stream",
     "text": [
      "Found Datasets: 4 datasets for the given time range\n",
      "S3A_OL_1_ERR____20240616T130743_20240616T135209_20240616T152804_2666_113_295______MAR_O_NR_002.SEN3\n",
      "S3B_OL_1_ERR____20240616T122852_20240616T131318_20240616T144953_2666_094_152______MAR_O_NR_002.SEN3\n",
      "S3A_OL_1_ERR____20240616T112644_20240616T121110_20240616T135146_2666_113_294______MAR_O_NR_002.SEN3\n",
      "S3B_OL_1_ERR____20240616T104753_20240616T113219_20240616T131225_2666_094_151______MAR_O_NR_002.SEN3\n"
     ]
    },
    {
     "name": "stderr",
     "output_type": "stream",
     "text": [
      "Downloading S3A_OL_1_ERR____20240616T130743_20240616T135209_20240616T152804_2666_113_295______MAR_O_NR_002.SEN3: 100%|██████████| 740M/740M [02:11<00:00, 5.61MB/s] \n"
     ]
    },
    {
     "name": "stdout",
     "output_type": "stream",
     "text": [
      "Download of product S3A_OL_1_ERR____20240616T130743_20240616T135209_20240616T152804_2666_113_295______MAR_O_NR_002.SEN3 finished.\n"
     ]
    },
    {
     "name": "stderr",
     "output_type": "stream",
     "text": [
      "Downloading S3B_OL_1_ERR____20240616T122852_20240616T131318_20240616T144953_2666_094_152______MAR_O_NR_002.SEN3: 100%|██████████| 724M/724M [04:44<00:00, 2.55MB/s] \n"
     ]
    },
    {
     "name": "stdout",
     "output_type": "stream",
     "text": [
      "Download of product S3B_OL_1_ERR____20240616T122852_20240616T131318_20240616T144953_2666_094_152______MAR_O_NR_002.SEN3 finished.\n"
     ]
    },
    {
     "name": "stderr",
     "output_type": "stream",
     "text": [
      "Downloading S3A_OL_1_ERR____20240616T112644_20240616T121110_20240616T135146_2666_113_294______MAR_O_NR_002.SEN3: 100%|██████████| 732M/732M [02:11<00:00, 5.59MB/s] \n"
     ]
    },
    {
     "name": "stdout",
     "output_type": "stream",
     "text": [
      "Download of product S3A_OL_1_ERR____20240616T112644_20240616T121110_20240616T135146_2666_113_294______MAR_O_NR_002.SEN3 finished.\n"
     ]
    },
    {
     "name": "stderr",
     "output_type": "stream",
     "text": [
      "Downloading S3B_OL_1_ERR____20240616T104753_20240616T113219_20240616T131225_2666_094_151______MAR_O_NR_002.SEN3: 100%|██████████| 723M/723M [03:33<00:00, 3.38MB/s] "
     ]
    },
    {
     "name": "stdout",
     "output_type": "stream",
     "text": [
      "Download of product S3B_OL_1_ERR____20240616T104753_20240616T113219_20240616T131225_2666_094_151______MAR_O_NR_002.SEN3 finished.\n",
      "All downloads are finished.\n"
     ]
    },
    {
     "name": "stderr",
     "output_type": "stream",
     "text": [
      "\n"
     ]
    }
   ],
   "source": [
    "# Print the number of datasets found and their details\n",
    "print(f'Found Datasets: {products.total_results} datasets for the given time range')\n",
    "for product in products:\n",
    "    print(str(product))\n",
    "\n",
    "# Download the data with a progress bar\n",
    "for product in products:\n",
    "    with product.open() as fsrc:\n",
    "        # Get the total length of the file from the response headers\n",
    "        total_length = int(fsrc.info().get('Content-Length', 0))\n",
    "\n",
    "        # Open the destination file\n",
    "        with open(fsrc.name, mode='wb') as fdst, \\\n",
    "             tqdm(total=total_length, unit='B', unit_scale=True, desc=f\"Downloading {product}\") as pbar:\n",
    "            \n",
    "            # Define a chunk size for reading the data\n",
    "            chunk_size = 1024\n",
    "            \n",
    "            # Read the file in chunks and write to the destination file\n",
    "            for chunk in iter(lambda: fsrc.read(chunk_size), b''):\n",
    "                if chunk:  # filter out keep-alive new chunks\n",
    "                    fdst.write(chunk)\n",
    "                    pbar.update(len(chunk))\n",
    "    \n",
    "    print(f'Download of product {product} finished.')\n",
    "\n",
    "print('All downloads are finished.')"
   ]
  }
 ],
 "metadata": {
  "kernelspec": {
   "display_name": "BIOCarbon_Conda_Env",
   "language": "python",
   "name": "python3"
  },
  "language_info": {
   "codemirror_mode": {
    "name": "ipython",
    "version": 3
   },
   "file_extension": ".py",
   "mimetype": "text/x-python",
   "name": "python",
   "nbconvert_exporter": "python",
   "pygments_lexer": "ipython3",
   "version": "3.12.3"
  }
 },
 "nbformat": 4,
 "nbformat_minor": 2
}
