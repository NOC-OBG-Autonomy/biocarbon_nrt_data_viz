{
 "cells": [
  {
   "cell_type": "code",
   "execution_count": 31,
   "metadata": {},
   "outputs": [],
   "source": [
    "import pandas as pd\n",
    "import matplotlib.pyplot as plt\n",
    "import os\n",
    "import cartopy.crs as ccrs\n",
    "from cartopy.mpl.gridliner import LATITUDE_FORMATTER, LONGITUDE_FORMATTER\n",
    "from matplotlib_scalebar.scalebar import ScaleBar\n",
    "from tqdm import tqdm\n",
    "import numpy as np\n",
    "from datetime import datetime\n",
    "from geopy.point import Point\n",
    "from geopy.distance import geodesic\n"
   ]
  },
  {
   "cell_type": "code",
   "execution_count": 32,
   "metadata": {},
   "outputs": [],
   "source": [
    "# Establish directory locations\n",
    "\n",
    "parent_dir    = os.path.abspath(os.path.join(os.getcwd(), os.pardir))\n",
    "data_dir      = os.path.join(parent_dir, 'data')\n",
    "satellite_dir = os.path.join(data_dir, 'satellite')\n",
    "output_dir    = os.path.join(parent_dir, 'Output')\n",
    "pos_data_dir  = os.path.join(parent_dir, 'Plotting_tools/shared_data')"
   ]
  },
  {
   "cell_type": "code",
   "execution_count": 33,
   "metadata": {},
   "outputs": [],
   "source": [
    "all_positions = pd.read_csv(os.path.join(pos_data_dir, 'rt_positions.csv'))\n",
    "all_positions['datetime'] = pd.to_datetime(all_positions['date'])\n",
    "all_positions['date'] = all_positions['datetime'].apply(lambda x: x.strftime('%m-%d %H:%M'))"
   ]
  },
  {
   "cell_type": "code",
   "execution_count": 34,
   "metadata": {},
   "outputs": [],
   "source": [
    "lovuse31 = all_positions[all_positions['platform_id'] == 'lovuse031c']"
   ]
  },
  {
   "cell_type": "code",
   "execution_count": 35,
   "metadata": {},
   "outputs": [],
   "source": [
    "platform_mask = {\n",
    "        'Ship':  'x',\n",
    "        'glider': '^',\n",
    "        'Float':  'o',\n",
    "        'respire': '>',\n",
    "        'waypoint': '1'}\n",
    "\n",
    "platform_colors = {\n",
    "        'Discovery':  'black',\n",
    "        'unit_405': '#b2182b',\n",
    "        'unit_397':  '#f4a582',\n",
    "        'unit_398': '#d6604d',\n",
    "        'unit_345': '#fddbc7',\n",
    "        'lovuse031c': '#92c5de',\n",
    "        'lovuse032c': '#4393c3',\n",
    "        'lovuse026d': '#2166ac',\n",
    "        'respire': '#b8e186',\n",
    "        'waypoint 1': 'black',\n",
    "        'waypoint 2': 'black',\n",
    "        'waypoint 3': 'black',\n",
    "        'waypoint 4': 'black'}\n",
    "\n",
    "def get_color(platform_id):\n",
    "    return platform_colors.get(platform_id, 'black')\n",
    "\n",
    "all_positions['color'] = all_positions['platform_id'].apply(get_color)"
   ]
  },
  {
   "cell_type": "code",
   "execution_count": 36,
   "metadata": {},
   "outputs": [],
   "source": [
    "autonomy_positions = all_positions[all_positions['platform_type'].isin(['glider', 'Float', 'waypoint'])]\n",
    "autonomy_positions_from_start = autonomy_positions[autonomy_positions['datetime'] > pd.to_datetime('2024-06-12 00:00:01')]"
   ]
  },
  {
   "cell_type": "code",
   "execution_count": 37,
   "metadata": {},
   "outputs": [],
   "source": [
    "max_lon = autonomy_positions_from_start['lon'].max() + 0.05\n",
    "min_lon = autonomy_positions_from_start['lon'].min() - 0.05\n",
    "max_lat = autonomy_positions_from_start['lat'].max() + 0.05\n",
    "min_lat = autonomy_positions_from_start['lat'].min() - 0.05\n"
   ]
  },
  {
   "cell_type": "code",
   "execution_count": 38,
   "metadata": {},
   "outputs": [],
   "source": [
    "positions = all_positions.loc[all_positions.groupby('platform_id')['date'].idxmax()]"
   ]
  },
  {
   "cell_type": "code",
   "execution_count": 39,
   "metadata": {},
   "outputs": [],
   "source": [
    "\n",
    "current_time = datetime.now()\n",
    "now = current_time.strftime(format = '%Y-%m-%d %H:%M:%S')"
   ]
  },
  {
   "cell_type": "code",
   "execution_count": 40,
   "metadata": {},
   "outputs": [],
   "source": [
    "positions_from_start = all_positions[all_positions['datetime'] > pd.to_datetime('2024-06-12 00:00:01')]"
   ]
  },
  {
   "cell_type": "code",
   "execution_count": 41,
   "metadata": {},
   "outputs": [],
   "source": [
    "floats_positions = all_positions[all_positions['platform_type'] == 'Float']"
   ]
  },
  {
   "cell_type": "code",
   "execution_count": 42,
   "metadata": {},
   "outputs": [],
   "source": [
    "dates_of_gliders = positions_from_start[positions_from_start['platform_type'].isin(['glider', 'Float'])]['datetime'].unique()"
   ]
  },
  {
   "cell_type": "code",
   "execution_count": 43,
   "metadata": {},
   "outputs": [
    {
     "name": "stderr",
     "output_type": "stream",
     "text": [
      "C:\\Users\\flapet\\AppData\\Local\\Temp\\ipykernel_16512\\851133877.py:2: DeprecationWarning: datetime.datetime.utcfromtimestamp() is deprecated and scheduled for removal in a future version. Use timezone-aware objects to represent datetimes in UTC: datetime.datetime.fromtimestamp(timestamp, datetime.UTC).\n",
      "  current['datetime'] = current['timestamp'].apply(lambda x: datetime.utcfromtimestamp(x / 1000))\n"
     ]
    }
   ],
   "source": [
    "current = pd.read_csv(os.path.join(data_dir, 'Gliders/current.csv'))\n",
    "current['datetime'] = current['timestamp'].apply(lambda x: datetime.utcfromtimestamp(x / 1000))\n",
    "current_position = current[current['variable'].isin(['m_lon', 'm_lat'])]\n",
    "current_x = current[current['variable'] == 'm_water_vx']\n",
    "current_y = current[current['variable'] == 'm_water_vy']\n",
    "current_position = current_position.pivot_table(index='datetime', columns='variable', values='value').reset_index()\n",
    "current_x =  current_x.pivot_table(index='datetime', columns='variable', values='value').reset_index()\n",
    "current_y =  current_y.pivot_table(index='datetime', columns='variable', values='value').reset_index()\n",
    "\n",
    "\n",
    "# Ensure both DataFrames are sorted by the datetime column\n",
    "current_position = current_position.sort_values('datetime')\n",
    "current_x = current_x.sort_values('datetime')\n",
    "current_y = current_y.sort_values('datetime')\n",
    "\n",
    "# Perform the asof merge\n",
    "merged_df = pd.merge_asof(current_x, current_y, on='datetime', direction='nearest')\n",
    "merged_df = pd.merge_asof(merged_df, current_position, on='datetime', direction='nearest')"
   ]
  },
  {
   "cell_type": "code",
   "execution_count": 44,
   "metadata": {},
   "outputs": [
    {
     "name": "stderr",
     "output_type": "stream",
     "text": [
      "100%|██████████| 55/55 [00:59<00:00,  1.08s/it]\n"
     ]
    }
   ],
   "source": [
    "for i in tqdm(dates_of_gliders):\n",
    "    temp = all_positions[all_positions['datetime']<= pd.to_datetime(i)]\n",
    "    temp = temp.loc[temp.groupby('platform_id')['datetime'].idxmax()]\n",
    "    datename = i.strftime(format = '%Y-%m-%d %H:%M:%S').replace(\" \", \"_\").replace(\":\", \"\").replace(\"-\", \"\")\n",
    "    filename = parent_dir + '/Output/Plots/rt_tracking/rt_tracking_' + datename + '.png'\n",
    "\n",
    "    temp_current = merged_df[merged_df['datetime']<= pd.to_datetime(i)]\n",
    "    x = temp_current['m_lon']\n",
    "    y = temp_current['m_lat']\n",
    "    u = temp_current['m_water_vx']\n",
    "    v = temp_current['m_water_vy']\n",
    "\n",
    "    speed = np.sqrt(u**2 + v**2)\n",
    "    dist = speed * 60 * 60 * 6\n",
    "\n",
    "\n",
    "    fig = plt.figure(figsize=(10,10))\n",
    "    ax = fig.add_subplot(1, 1, 1, projection=ccrs.Mercator())\n",
    "\n",
    "                        # Set the map extent based on your latitude and longitude ranges\n",
    "    ax.set_extent([-23.3, max_lon, min_lat, 59.8], crs=ccrs.PlateCarree())\n",
    "\n",
    "\n",
    "    for platform_type, mask in platform_mask.items():\n",
    "        subset = temp[temp['platform_type'] == platform_type]\n",
    "        for platform_id, color in platform_colors.items():\n",
    "            sub_subset = subset[subset['platform_id'] == platform_id]\n",
    "            if not sub_subset.empty:\n",
    "                ax.scatter(sub_subset['lon'], sub_subset['lat'], c=color, label=platform_id, marker=mask, s=100, transform=ccrs.PlateCarree())\n",
    "                for index, row in sub_subset.iterrows():\n",
    "                    ax.annotate(str(row['date']), (row['lon'], row['lat']), transform=ccrs.PlateCarree())\n",
    "\n",
    "    ax.scatter(-24, 60, label = 'Station 1', marker = 'X', c = 'Black', transform = ccrs.PlateCarree(), s = 200)\n",
    "    im = ax.quiver(x, y, u, v, speed, angles='xy', scale_units='xy', cmap='viridis', transform=ccrs.PlateCarree(), width = 0.002)\n",
    "\n",
    "\n",
    "    # Add a scale bar\n",
    "    ax.add_artist(ScaleBar(1, location = \"lower left\"))\n",
    "\n",
    "    # Add gridlines and labels\n",
    "    gl = ax.gridlines(draw_labels=True)\n",
    "    gl.xformatter = LONGITUDE_FORMATTER\n",
    "    gl.yformatter = LATITUDE_FORMATTER\n",
    "    gl.xlabel_style = {'size': 10}\n",
    "    gl.ylabel_style = {'size': 10}\n",
    "    gl.top_labels=False   # suppress top labels\n",
    "    gl.right_labels=False # suppress right labels\n",
    "\n",
    "    plt.xlabel('Longitude')\n",
    "    plt.ylabel('Latitude')\n",
    "    plt.title(f'Platform Positions \\n {i}')\n",
    "    # Shink current axis by 20%\n",
    "    box = ax.get_position()\n",
    "    ax.set_position([box.x0, box.y0, box.width * 0.5, box.height*0.5])\n",
    "    plt.legend(title='Platform ID', bbox_to_anchor=(1.05, 1), borderaxespad=0., loc='upper left')  # Adjust the coordinates as needed\n",
    "\n",
    "    cbar = plt.colorbar(im, ax = ax, label=r'Depth averaged current (m s$^{-1}$)', location='bottom')\n",
    "    cbar.set_label(r'Depth averaged current (m s$^{-1}$)', labelpad=15)\n",
    "\n",
    "    plt.savefig(filename)\n",
    "    plt.close()\n"
   ]
  },
  {
   "cell_type": "code",
   "execution_count": null,
   "metadata": {},
   "outputs": [],
   "source": [
    "\n",
    "# Calculate distance traveled over 6 hours for each speed\n",
    "merged_df['speed'] = np.sqrt(merged_df['m_water_vx']**2 + merged_df['m_water_vy']**2)\n",
    "merged_df['distance_6h'] = merged_df['speed'] * 60 * 60 * 6 / 1000 # distance in km\n",
    "\n",
    "def calculate_bearing(dx, dy):\n",
    "    angle = np.arctan2(dx, dy)  # angle in radians\n",
    "    bearing = np.degrees(angle)  # convert to degrees\n",
    "    bearing = (bearing + 360) % 360  # normalize to 0-360\n",
    "    return bearing\n",
    "\n",
    "# Calculate bearings\n",
    "merged_df['bearing'] = merged_df.apply(lambda row: calculate_bearing(row['m_water_vx'], row['m_water_vy']), axis=1)\n",
    "\n",
    "\n",
    "# Function to calculate new position based on initial position and distance\n",
    "def new_position(lat, lon, distance_km, bearing):\n",
    "    origin = Point(lat, lon)\n",
    "    destination = geodesic(kilometers=distance_km).destination(origin, bearing)\n",
    "    return destination.latitude, destination.longitude\n",
    "\n",
    "# Calculate new positions\n",
    "new_positions = [new_position(row.m_lat, row.m_lon, row.distance_6h, row.bearing)\n",
    "                 for row in merged_df.itertuples()]\n",
    "\n",
    "# Add new positions to dataframe\n",
    "merged_df['new_latitude'], merged_df['new_longitude'] = zip(*new_positions)"
   ]
  },
  {
   "cell_type": "code",
   "execution_count": null,
   "metadata": {},
   "outputs": [],
   "source": [
    "import matplotlib.cm as cm\n",
    "import matplotlib.colors as mcolors\n",
    "\n",
    "# Normalize the speed values for the color map\n",
    "norm = mcolors.Normalize(vmin=merged_df['speed'].min(), vmax=merged_df['speed'].max())\n",
    "cmap = cm.viridis  # You can choose any colormap you like\n",
    "fig, ax = plt.subplots(figsize=(10, 6))\n",
    "# Scatter plot for original positions colored by speed\n",
    "plt.scatter(merged_df['m_lon'], merged_df['m_lat'], label='Original Position', c = 'black')\n",
    "\n",
    "\n",
    "# Calculate the change in position\n",
    "d_lon = merged_df['new_longitude'] - merged_df['m_lon']\n",
    "d_lat = merged_df['new_latitude'] - merged_df['m_lat']\n",
    "\n",
    "# Plot arrows\n",
    "quiver = ax.quiver(merged_df['m_lon'], merged_df['m_lat'], d_lon, d_lat,\n",
    "           merged_df['speed'], cmap=cmap, scale=1, scale_units='xy', angles='xy', width=0.0025, transform = ccrs.PlateCarree())\n",
    "\n",
    "# Adding color bar\n",
    "cbar = fig.colorbar(quiver, ax=ax)\n",
    "cbar.set_label('Depth averaged current speed (m.s-1)')\n",
    "\n",
    "plt.xlabel('Lon')\n",
    "plt.ylabel('Lat')\n",
    "plt.title('Positions and Distances Traveled Over 6 Hours')\n",
    "plt.legend()\n",
    "plt.grid(True)\n",
    "plt.show()"
   ]
  },
  {
   "cell_type": "code",
   "execution_count": null,
   "metadata": {},
   "outputs": [],
   "source": [
    "for i in tqdm(dates_of_gliders):\n",
    "    temp = all_positions[all_positions['datetime']<= pd.to_datetime(i)]\n",
    "    temp = temp.loc[temp.groupby('platform_id')['datetime'].idxmax()]\n",
    "    datename = i.strftime(format = '%Y-%m-%d %H:%M:%S').replace(\" \", \"_\").replace(\":\", \"\").replace(\"-\", \"\")\n",
    "    filename = parent_dir + '/Output/Plots/rt_tracking/rt_tracking_' + datename + '.png'\n",
    "\n",
    "    fig = plt.figure(figsize=(10,10))\n",
    "    ax = fig.add_subplot(1, 1, 1, projection=ccrs.Mercator())\n",
    "\n",
    "                        # Set the map extent based on your latitude and longitude ranges\n",
    "    ax.set_extent([min_lon, max_lon, min_lat, max_lat], crs=ccrs.PlateCarree())\n",
    "\n",
    "\n",
    "    for platform_type, mask in platform_mask.items():\n",
    "        subset = temp[temp['platform_type'] == platform_type]\n",
    "        for platform_id, color in platform_colors.items():\n",
    "            sub_subset = subset[subset['platform_id'] == platform_id]\n",
    "            if not sub_subset.empty:\n",
    "                ax.scatter(sub_subset['lon'], sub_subset['lat'], c=color, label=platform_id, marker=mask, s=100, transform=ccrs.PlateCarree())\n",
    "                for index, row in sub_subset.iterrows():\n",
    "                    ax.annotate(str(row['date']), (row['lon'], row['lat']), transform=ccrs.PlateCarree())\n",
    "\n",
    "    ax.scatter(-24, 60, label = 'Station 1', marker = 'X', c = 'Black', transform = ccrs.PlateCarree(), s = 200)\n",
    "    im = ax.quiver(x, y, u, v, speed, angles='xy', scale_units='xy', cmap='viridis', transform=ccrs.PlateCarree(), width = 0.002)\n",
    "    d_lon = merged_df['new_longitude'] - merged_df['m_lon']\n",
    "    d_lat = merged_df['new_latitude'] - merged_df['m_lat']\n",
    "\n",
    "    # Plot arrows\n",
    "    #quiver = ax.quiver(merged_df['m_lon'], merged_df['m_lat'], d_lon, d_lat,\n",
    "    #       merged_df['speed'], cmap=cmap, scale=1, scale_units='xy', angles='xy', width=0.0025, transform = ccrs.PlateCarree())\n",
    "\n",
    "\n",
    "    # Add a scale bar\n",
    "    ax.add_artist(ScaleBar(1, location = \"lower left\"))\n",
    "\n",
    "    # Add gridlines and labels\n",
    "    gl = ax.gridlines(draw_labels=True)\n",
    "    gl.xformatter = LONGITUDE_FORMATTER\n",
    "    gl.yformatter = LATITUDE_FORMATTER\n",
    "    gl.xlabel_style = {'size': 10}\n",
    "    gl.ylabel_style = {'size': 10}\n",
    "    gl.top_labels=False   # suppress top labels\n",
    "    gl.right_labels=False # suppress right labels\n",
    "\n",
    "    plt.xlabel('Longitude')\n",
    "    plt.ylabel('Latitude')\n",
    "    plt.title(f'Platform Positions \\n {i}')\n",
    "    # Shink current axis by 20%\n",
    "    box = ax.get_position()\n",
    "    ax.set_position([box.x0, box.y0, box.width * 0.8, box.height])\n",
    "    plt.legend(title='Platform ID', bbox_to_anchor=(1.05, 1), borderaxespad=0., loc='upper left')  # Adjust the coordinates as needed\n",
    "\n",
    "    cbar = plt.colorbar(quiver, ax = ax, label=r'Depth averaged current (m s$^{-1}$)', location='bottom')\n",
    "    cbar.set_label(r'Depth averaged current (m s$^{-1}$)', labelpad=15)\n",
    "\n",
    "    plt.savefig(filename)\n",
    "    plt.close()"
   ]
  },
  {
   "cell_type": "code",
   "execution_count": null,
   "metadata": {},
   "outputs": [],
   "source": [
    "lov26 = all_positions[all_positions['platform_id'] == 'lovuse026d']\n",
    "last_date = lov26['datetime'].max()\n",
    "last_position = lov26[lov26['datetime'] == last_date]\n",
    "\n",
    "lon_start = float(last_position['lon'])\n",
    "lat_start = float(last_position['lat'])"
   ]
  },
  {
   "cell_type": "code",
   "execution_count": null,
   "metadata": {},
   "outputs": [],
   "source": [
    "lat_start"
   ]
  },
  {
   "cell_type": "code",
   "execution_count": null,
   "metadata": {},
   "outputs": [],
   "source": [
    "currents = merged_df[merged_df['m_lat'] < lat_start]\n",
    "currents = currents[currents['m_lon'] > lon_start]"
   ]
  },
  {
   "cell_type": "code",
   "execution_count": null,
   "metadata": {},
   "outputs": [],
   "source": [
    "u_vec = currents.loc[:, 'm_water_vx'].mean()\n",
    "v_vec = currents.loc[:, 'm_water_vy'].mean()"
   ]
  },
  {
   "cell_type": "code",
   "execution_count": null,
   "metadata": {},
   "outputs": [],
   "source": [
    "angle = calculate_bearing(u_vec, v_vec)\n",
    "speed = np.sqrt(u_vec**2 + v_vec**2)\n",
    "dist = speed * 60 * 60 * 24 * 3.5 / 1000 "
   ]
  },
  {
   "cell_type": "code",
   "execution_count": null,
   "metadata": {},
   "outputs": [],
   "source": [
    "lon, lat = new_position(lat_start, lon_start, dist, angle)"
   ]
  },
  {
   "cell_type": "code",
   "execution_count": null,
   "metadata": {},
   "outputs": [],
   "source": []
  }
 ],
 "metadata": {
  "kernelspec": {
   "display_name": "nrt_env",
   "language": "python",
   "name": "python3"
  },
  "language_info": {
   "codemirror_mode": {
    "name": "ipython",
    "version": 3
   },
   "file_extension": ".py",
   "mimetype": "text/x-python",
   "name": "python",
   "nbconvert_exporter": "python",
   "pygments_lexer": "ipython3",
   "version": "3.12.2"
  }
 },
 "nbformat": 4,
 "nbformat_minor": 2
}
