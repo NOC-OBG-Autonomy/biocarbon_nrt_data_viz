{
 "cells": [
  {
   "cell_type": "code",
   "execution_count": 1,
   "metadata": {},
   "outputs": [],
   "source": [
    "# Import necessary modules\n",
    "\n",
    "import pandas as pd\n",
    "import numpy as np\n",
    "from tqdm import tqdm\n",
    "import os\n",
    "from pathlib import Path\n",
    "import xarray as xr\n",
    "import matplotlib.patches as mpatches\n",
    "import matplotlib.pyplot as plt\n",
    "from datetime import datetime\n",
    "import cartopy.feature as cfeature\n",
    "import cartopy.crs as ccrs\n",
    "import cartopy.mpl.ticker as cticker\n",
    "from cartopy.util import add_cyclic_point\n",
    "import matplotlib.colors as colors\n",
    "import geopandas as gpd\n",
    "from urllib.request import urlretrieve\n",
    "import requests\n",
    "from glob import glob\n",
    "import pandas as pd\n",
    "import numpy as np\n",
    "from tqdm import tqdm\n",
    "import os\n",
    "from pathlib import Path\n",
    "from datetime import datetime, timedelta\n",
    "import json\n",
    "import sys\n",
    "import math\n",
    "from geopy.distance import distance\n",
    "from matplotlib.colors import to_rgba\n",
    "from collections import defaultdict"
   ]
  },
  {
   "cell_type": "code",
   "execution_count": 2,
   "metadata": {},
   "outputs": [],
   "source": [
    "# Establish directory locations\n",
    "\n",
    "parent_dir    = os.path.abspath(os.path.join(os.getcwd(), os.pardir))\n",
    "data_dir      = os.path.join(parent_dir, 'data')\n",
    "satellite_dir = os.path.join(data_dir, 'satellite')\n",
    "output_dir    = os.path.join(parent_dir, 'Output/sat_plot')\n",
    "NEODASS_dir   = os.path.join(satellite_dir, 'NEODASS')\n",
    "floats_dir    = os.path.join(parent_dir, 'Data/Floats')"
   ]
  },
  {
   "cell_type": "code",
   "execution_count": 3,
   "metadata": {},
   "outputs": [],
   "source": [
    "# Plotting preferences\n",
    "\n",
    "# Global\n",
    "\n",
    "start_date = datetime(2024, 5, 20) #YYYY, M, DD\n",
    "end_date = datetime(2024, 5, 30)\n",
    "\n",
    "min_lon = -35\n",
    "max_lon = -5\n",
    "min_lat = 55\n",
    "max_lat = 66\n",
    "\n",
    "# Float colors\n",
    "# For additional floats, add the name (as it appears in the 'Float_positions.csv') and color you'd like (as a hexcode)\n",
    "float_colors = {\n",
    "        '4903532':  '#B4184C',\n",
    "        'navis102': '#F5A300',\n",
    "        '1902637':  '#0000E0',\n",
    "        'navis101': '#FBFF1F'}\n",
    "\n",
    "# CHLA\n",
    "skip_chla            = True\n",
    "CHLA_color           = 'YlGnBu_r'\n",
    "CHLA_plot_as_log     = True # Default True\n",
    "CHLA_plot_lim_max    = 10   # Default 10\n",
    "CHLA_plot_lim_min    = 0.1  # Default 0.1\n",
    "\n",
    "# SST\n",
    "skip_sst             = True\n",
    "SST_color            = 'YlOrRd'\n",
    "SST_plot_as_log      = False # Default False\n",
    "SST_plot_lim_max     = 15    # Default 15\n",
    "SST_plot_lim_min     = 5     # Default 5\n",
    "\n",
    "# SSH\n",
    "skip_sla             = False\n",
    "SSH_color            = 'RdBu'\n",
    "SSH_plot_as_log      = False # Default False\n",
    "SSH_plot_lim_max     = 0.5   # Default  0.5\n",
    "SSH_plot_lim_min     = -0.5  # Default -0.5\n",
    "\n",
    "# PIC\n",
    "skip_pic             = False\n",
    "PIC_color            = 'YlGnBu_r'\n",
    "PIC_plot_as_log      = True\n",
    "PIC_plot_lim_max     = 0.1\n",
    "PIC_plot_lim_min     = 0.0000001"
   ]
  },
  {
   "cell_type": "code",
   "execution_count": 4,
   "metadata": {},
   "outputs": [],
   "source": [
    "# Function to generate points on a circle centered at (lat, lon) with a given radius\n",
    "def generate_circle_points(lat, lon, radius_km, num_points=360):\n",
    "    angles = np.linspace(0, 360, num_points)\n",
    "    circle_points = []\n",
    "    for angle in angles:\n",
    "        point = distance(kilometers=radius_km).destination((lat, lon), angle)\n",
    "        circle_points.append((point.latitude, point.longitude))\n",
    "    \n",
    "    return np.array(circle_points)\n",
    "\n",
    "# Generates a list of dates between given dates \n",
    "def get_dates_between(start_date, end_date):\n",
    "    dates = []\n",
    "    current_date = start_date\n",
    "    while current_date <= end_date:\n",
    "        dates.append(current_date.strftime(\"%Y-%m-%d\"))\n",
    "        current_date += timedelta(days=1)\n",
    "    return dates"
   ]
  },
  {
   "cell_type": "code",
   "execution_count": 5,
   "metadata": {},
   "outputs": [
    {
     "name": "stdout",
     "output_type": "stream",
     "text": [
      "Chl files:\n",
      "  Date: 2024-05-20 00:00:00\n",
      "    File: olci_a_1km-CHL_OC4ME-1d-20240520_20240520-nrt.nc, Variable: CHL_OC4ME\n",
      "    File: olci_b_1km-CHL_OC4ME-1d-20240520_20240520-nrt.nc, Variable: CHL_OC4ME\n",
      "    File: viirs_noaa20-chl_oc5ci-1d-20240520_20240520-nrt.nc, Variable: chl_oc5ci\n",
      "  Date: 2024-05-21 00:00:00\n",
      "    File: olci_a_1km-CHL_OC4ME-1d-20240521_20240521-nrt.nc, Variable: CHL_OC4ME\n",
      "    File: olci_b_1km-CHL_OC4ME-1d-20240521_20240521-nrt.nc, Variable: CHL_OC4ME\n",
      "    File: viirs_noaa20-chl_oc5ci-1d-20240521_20240521-nrt.nc, Variable: chl_oc5ci\n",
      "  Date: 2024-05-22 00:00:00\n",
      "    File: olci_a_1km-CHL_OC4ME-1d-20240522_20240522-nrt.nc, Variable: CHL_OC4ME\n",
      "    File: olci_b_1km-CHL_OC4ME-1d-20240522_20240522-nrt.nc, Variable: CHL_OC4ME\n",
      "    File: viirs_noaa20-chl_oc5ci-1d-20240522_20240522-nrt.nc, Variable: chl_oc5ci\n",
      "  Date: 2024-05-23 00:00:00\n",
      "    File: olci_a_1km-CHL_OC4ME-1d-20240523_20240523-nrt.nc, Variable: CHL_OC4ME\n",
      "    File: olci_b_1km-CHL_OC4ME-1d-20240523_20240523-nrt.nc, Variable: CHL_OC4ME\n",
      "    File: viirs_noaa20-chl_oc5ci-1d-20240523_20240523-nrt.nc, Variable: chl_oc5ci\n",
      "  Date: 2024-05-24 00:00:00\n",
      "    File: olci_a_1km-CHL_OC4ME-1d-20240524_20240524-nrt.nc, Variable: CHL_OC4ME\n",
      "    File: olci_b_1km-CHL_OC4ME-1d-20240524_20240524-nrt.nc, Variable: CHL_OC4ME\n",
      "    File: viirs_noaa20-chl_oc5ci-1d-20240524_20240524-nrt.nc, Variable: chl_oc5ci\n",
      "  Date: 2024-05-25 00:00:00\n",
      "    File: olci_a_1km-CHL_OC4ME-1d-20240525_20240525-nrt.nc, Variable: CHL_OC4ME\n",
      "    File: olci_b_1km-CHL_OC4ME-1d-20240525_20240525-nrt.nc, Variable: CHL_OC4ME\n",
      "    File: viirs_noaa20-chl_oc5ci-1d-20240525_20240525-nrt.nc, Variable: chl_oc5ci\n",
      "  Date: 2024-05-26 00:00:00\n",
      "    File: olci_a_1km-CHL_OC4ME-1d-20240526_20240526-nrt.nc, Variable: CHL_OC4ME\n",
      "    File: olci_b_1km-CHL_OC4ME-1d-20240526_20240526-nrt.nc, Variable: CHL_OC4ME\n",
      "    File: viirs_noaa20-chl_oc5ci-1d-20240526_20240526-nrt.nc, Variable: chl_oc5ci\n",
      "  Date: 2024-05-27 00:00:00\n",
      "    File: olci_a_1km-CHL_OC4ME-1d-20240527_20240527-nrt.nc, Variable: CHL_OC4ME\n",
      "    File: olci_b_1km-CHL_OC4ME-1d-20240527_20240527-nrt.nc, Variable: CHL_OC4ME\n",
      "    File: viirs_noaa20-chl_oc5ci-1d-20240527_20240527-nrt.nc, Variable: chl_oc5ci\n",
      "  Date: 2024-05-28 00:00:00\n",
      "    File: olci_a_1km-CHL_OC4ME-1d-20240528_20240528-nrt.nc, Variable: CHL_OC4ME\n",
      "    File: olci_b_1km-CHL_OC4ME-1d-20240528_20240528-nrt.nc, Variable: CHL_OC4ME\n",
      "    File: viirs_noaa20-chl_oc5ci-1d-20240528_20240528-nrt.nc, Variable: chl_oc5ci\n",
      "  Date: 2024-05-29 00:00:00\n",
      "    File: olci_a_1km-CHL_OC4ME-1d-20240529_20240529-nrt.nc, Variable: CHL_OC4ME\n",
      "    File: olci_b_1km-CHL_OC4ME-1d-20240529_20240529-nrt.nc, Variable: CHL_OC4ME\n",
      "    File: viirs_noaa20-chl_oc5ci-1d-20240529_20240529-nrt.nc, Variable: chl_oc5ci\n",
      "Temp files:\n",
      "  Date: 2024-05-20 00:00:00\n",
      "    File: slstr_a-sea_surface_temperature-1d-20240520_20240520-nrt.nc, Variable: sea_surface_temperature\n",
      "    File: slstr_b-sea_surface_temperature-1d-20240520_20240520-nrt.nc, Variable: sea_surface_temperature\n",
      "  Date: 2024-05-21 00:00:00\n",
      "    File: slstr_a-sea_surface_temperature-1d-20240521_20240521-nrt.nc, Variable: sea_surface_temperature\n",
      "    File: slstr_b-sea_surface_temperature-1d-20240521_20240521-nrt.nc, Variable: sea_surface_temperature\n",
      "  Date: 2024-05-22 00:00:00\n",
      "    File: slstr_a-sea_surface_temperature-1d-20240522_20240522-nrt.nc, Variable: sea_surface_temperature\n",
      "    File: slstr_b-sea_surface_temperature-1d-20240522_20240522-nrt.nc, Variable: sea_surface_temperature\n",
      "  Date: 2024-05-23 00:00:00\n",
      "    File: slstr_a-sea_surface_temperature-1d-20240523_20240523-nrt.nc, Variable: sea_surface_temperature\n",
      "    File: slstr_b-sea_surface_temperature-1d-20240523_20240523-nrt.nc, Variable: sea_surface_temperature\n",
      "  Date: 2024-05-24 00:00:00\n",
      "    File: slstr_a-sea_surface_temperature-1d-20240524_20240524-nrt.nc, Variable: sea_surface_temperature\n",
      "    File: slstr_b-sea_surface_temperature-1d-20240524_20240524-nrt.nc, Variable: sea_surface_temperature\n",
      "  Date: 2024-05-25 00:00:00\n",
      "    File: slstr_a-sea_surface_temperature-1d-20240525_20240525-nrt.nc, Variable: sea_surface_temperature\n",
      "    File: slstr_b-sea_surface_temperature-1d-20240525_20240525-nrt.nc, Variable: sea_surface_temperature\n",
      "  Date: 2024-05-26 00:00:00\n",
      "    File: slstr_a-sea_surface_temperature-1d-20240526_20240526-nrt.nc, Variable: sea_surface_temperature\n",
      "    File: slstr_b-sea_surface_temperature-1d-20240526_20240526-nrt.nc, Variable: sea_surface_temperature\n",
      "  Date: 2024-05-27 00:00:00\n",
      "    File: slstr_a-sea_surface_temperature-1d-20240527_20240527-nrt.nc, Variable: sea_surface_temperature\n",
      "    File: slstr_b-sea_surface_temperature-1d-20240527_20240527-nrt.nc, Variable: sea_surface_temperature\n",
      "  Date: 2024-05-28 00:00:00\n",
      "    File: slstr_a-sea_surface_temperature-1d-20240528_20240528-nrt.nc, Variable: sea_surface_temperature\n",
      "    File: slstr_b-sea_surface_temperature-1d-20240528_20240528-nrt.nc, Variable: sea_surface_temperature\n",
      "  Date: 2024-05-29 00:00:00\n",
      "    File: slstr_a-sea_surface_temperature-1d-20240529_20240529-nrt.nc, Variable: sea_surface_temperature\n",
      "    File: slstr_b-sea_surface_temperature-1d-20240529_20240529-nrt.nc, Variable: sea_surface_temperature\n",
      "Sla files:\n",
      "  Date: 2024-05-20 00:00:00\n",
      "    File: cmems_sea_level-sla-1d-20240520_20240520-nrt.nc, Variable: sla\n",
      "  Date: 2024-05-21 00:00:00\n",
      "    File: cmems_sea_level-sla-1d-20240521_20240521-nrt.nc, Variable: sla\n",
      "  Date: 2024-05-22 00:00:00\n",
      "    File: cmems_sea_level-sla-1d-20240522_20240522-nrt.nc, Variable: sla\n",
      "  Date: 2024-05-23 00:00:00\n",
      "    File: cmems_sea_level-sla-1d-20240523_20240523-nrt.nc, Variable: sla\n",
      "  Date: 2024-05-24 00:00:00\n",
      "    File: cmems_sea_level-sla-1d-20240524_20240524-nrt.nc, Variable: sla\n",
      "  Date: 2024-05-25 00:00:00\n",
      "    File: cmems_sea_level-sla-1d-20240525_20240525-nrt.nc, Variable: sla\n",
      "  Date: 2024-05-26 00:00:00\n",
      "    File: cmems_sea_level-sla-1d-20240526_20240526-nrt.nc, Variable: sla\n",
      "  Date: 2024-05-27 00:00:00\n",
      "    File: cmems_sea_level-sla-1d-20240527_20240527-nrt.nc, Variable: sla\n",
      "  Date: 2024-05-28 00:00:00\n",
      "    File: cmems_sea_level-sla-1d-20240528_20240528-nrt.nc, Variable: sla\n",
      "  Date: 2024-05-29 00:00:00\n",
      "    File: cmems_sea_level-sla-1d-20240529_20240529-nrt.nc, Variable: sla\n",
      "Adt files:\n",
      "Bbp files:\n",
      "Pic files:\n",
      "  Date: 2024-05-20 00:00:00\n",
      "    File: viirs_suomi-chl_oc5_pic-1d-20240520_20240520-nrt.nc, Variable: pic\n",
      "  Date: 2024-05-21 00:00:00\n",
      "    File: viirs_suomi-chl_oc5_pic-1d-20240521_20240521-nrt.nc, Variable: pic\n",
      "  Date: 2024-05-22 00:00:00\n",
      "    File: viirs_suomi-chl_oc5_pic-1d-20240522_20240522-nrt.nc, Variable: pic\n",
      "  Date: 2024-05-23 00:00:00\n",
      "    File: viirs_suomi-chl_oc5_pic-1d-20240523_20240523-nrt.nc, Variable: pic\n",
      "  Date: 2024-05-24 00:00:00\n",
      "    File: viirs_suomi-chl_oc5_pic-1d-20240524_20240524-nrt.nc, Variable: pic\n",
      "  Date: 2024-05-25 00:00:00\n",
      "    File: viirs_suomi-chl_oc5_pic-1d-20240525_20240525-nrt.nc, Variable: pic\n",
      "  Date: 2024-05-26 00:00:00\n",
      "    File: viirs_suomi-chl_oc5_pic-1d-20240526_20240526-nrt.nc, Variable: pic\n",
      "  Date: 2024-05-27 00:00:00\n",
      "    File: viirs_suomi-chl_oc5_pic-1d-20240527_20240527-nrt.nc, Variable: pic\n",
      "  Date: 2024-05-28 00:00:00\n",
      "    File: viirs_suomi-chl_oc5_pic-1d-20240528_20240528-nrt.nc, Variable: pic\n",
      "  Date: 2024-05-29 00:00:00\n",
      "    File: viirs_suomi-chl_oc5_pic-1d-20240529_20240529-nrt.nc, Variable: pic\n"
     ]
    }
   ],
   "source": [
    "### Plotting most recent data from CMEMS\n",
    "## List most recent files\n",
    "\n",
    "# List to store matching file names\n",
    "matching_files = []\n",
    "\n",
    "# Loop through the files in the directory\n",
    "for filename in os.listdir(NEODASS_dir):\n",
    "    if filename.endswith('.nc') and f'-1d-' in filename:\n",
    "        matching_files.append(filename)\n",
    "\n",
    "# Dictionary to store files by their base names (excluding '_a_' or '_b_') and key variables\n",
    "file_dict = {}\n",
    "\n",
    "for file in matching_files:\n",
    "    # Identify the base name by removing '_a' or '_b' if present\n",
    "    base_name = file.replace('_a', '_').replace('_b', '_')\n",
    "    if base_name not in file_dict:\n",
    "        file_dict[base_name] = {}\n",
    "    filepath = os.path.join(NEODASS_dir, file)\n",
    "    ds = xr.open_dataset(filepath)\n",
    "    variables = list(ds.data_vars.keys())\n",
    "    #print(variables)\n",
    "\n",
    "    # Find the key variable excluding 'longitude' and 'latitude'\n",
    "    key_variables = [var for var in variables if 'longitude' not in var.lower() and 'latitude' not in var.lower()]\n",
    "\n",
    "    if key_variables:\n",
    "        time_str = ds['time'].dt.strftime(\"%Y-%m-%d\").item()\n",
    "        for key_variable in key_variables:\n",
    "            file_dict[base_name][file] = {\n",
    "                'variable': key_variable,\n",
    "                'date': datetime.strptime(time_str, \"%Y-%m-%d\")\n",
    "                }       \n",
    "    else:\n",
    "        print(f\"No suitable key variable found in file: {file}\")\n",
    "\n",
    "    ds.close()\n",
    "\n",
    "# Group files by variable category and day\n",
    "var_dict = {'chl': {}, 'temp': {}, 'sla': {}, 'adt': {}, 'bbp': {}, 'pic': {}}\n",
    "\n",
    "for base_name, files in file_dict.items():\n",
    "    for file, data_info in files.items():\n",
    "        data_var = data_info['variable']\n",
    "        date = data_info['date']\n",
    "        var_name_lower = data_var.lower()\n",
    "        #print(data_var)\n",
    "        if 'chl' in var_name_lower:\n",
    "            if date not in var_dict['chl']:\n",
    "                var_dict['chl'][date] = []\n",
    "            var_dict['chl'][date].append((file, data_var))\n",
    "        elif 'temp' in var_name_lower:\n",
    "            if date not in var_dict['temp']:\n",
    "                var_dict['temp'][date] = []\n",
    "            var_dict['temp'][date].append((file, data_var))\n",
    "        elif 'sla' in var_name_lower:\n",
    "            if date not in var_dict['sla']:\n",
    "                var_dict['sla'][date] = []\n",
    "            var_dict['sla'][date].append((file, data_var))\n",
    "        elif 'adt' in var_name_lower:\n",
    "            if date not in var_dict['adt']:\n",
    "                var_dict['adt'][date] = []\n",
    "            var_dict['adt'][date].append((file, data_var))\n",
    "        elif 'bbp' in var_name_lower:\n",
    "            if date not in var_dict['bbp']:\n",
    "                var_dict['bbp'][date] = []\n",
    "            var_dict['bbp'][date].append((file, data_var))\n",
    "        elif 'pic' in var_name_lower:\n",
    "            if date not in var_dict['pic']:\n",
    "                var_dict['pic'][date] = []\n",
    "            var_dict['pic'][date].append((file, data_var))\n",
    "\n",
    "## Print the results\n",
    "for var_category, var_data in var_dict.items():\n",
    "    print(f\"{var_category.capitalize()} files:\")\n",
    "    for date, files in var_data.items():\n",
    "        print(f\"  Date: {date}\")\n",
    "        for file, variable in files:\n",
    "            print(f\"    File: {file}, Variable: {variable}\")\n",
    "\n",
    "# We load shape files for bathymetry lines\n",
    "#first_line_path = 'c:\\\\Users\\\\flapet\\\\OneDrive - NOC\\\\Documents\\\\NRT_viz\\\\biocarbon_nrt_data_viz/Data/ne_10m_bathymetry_all/ne_10m_bathymetry_J_1000.shp'\n",
    "#second_line_path = 'c:\\\\Users\\\\flapet\\\\OneDrive - NOC\\\\Documents\\\\NRT_viz\\\\biocarbon_nrt_data_viz/Data/ne_10m_bathymetry_all/ne_10m_bathymetry_I_2000.shp'\n",
    "\n",
    "first_line_path  = 'C:\\\\Users\\\\hanshil\\\\Documents\\\\GitHub\\\\biocarbon_nrt_data_viz\\\\data\\\\bathymetry\\\\ne_10m_bathymetry_J_1000.shp'\n",
    "second_line_path = 'C:\\\\Users\\\\hanshil\\\\Documents\\\\GitHub\\\\biocarbon_nrt_data_viz\\\\data\\\\bathymetry\\\\ne_10m_bathymetry_I_2000.shp'\n",
    "\n",
    "gdf_1000 = gpd.read_file(first_line_path)\n",
    "gdf_2000 = gpd.read_file(second_line_path)"
   ]
  },
  {
   "cell_type": "code",
   "execution_count": 6,
   "metadata": {},
   "outputs": [
    {
     "name": "stderr",
     "output_type": "stream",
     "text": [
      "Date progress...:   0%|          | 0/10 [00:00<?, ?it/s]"
     ]
    },
    {
     "name": "stdout",
     "output_type": "stream",
     "text": [
      "Opening file: cmems_sea_level-sla-1d-20240520_20240520-nrt.nc for variable: sla\n",
      "Appended data for sla from file: cmems_sea_level-sla-1d-20240520_20240520-nrt.nc\n",
      "Averaged data for sla on 2024-05-20 00:00:00:\n"
     ]
    },
    {
     "name": "stderr",
     "output_type": "stream",
     "text": [
      "Date progress...:  10%|█         | 1/10 [00:19<02:52, 19.18s/it]"
     ]
    },
    {
     "name": "stdout",
     "output_type": "stream",
     "text": [
      "Opening file: cmems_sea_level-sla-1d-20240521_20240521-nrt.nc for variable: sla\n",
      "Appended data for sla from file: cmems_sea_level-sla-1d-20240521_20240521-nrt.nc\n",
      "Averaged data for sla on 2024-05-21 00:00:00:\n"
     ]
    },
    {
     "name": "stderr",
     "output_type": "stream",
     "text": [
      "Date progress...:  20%|██        | 2/10 [00:36<02:25, 18.15s/it]"
     ]
    },
    {
     "name": "stdout",
     "output_type": "stream",
     "text": [
      "Opening file: cmems_sea_level-sla-1d-20240522_20240522-nrt.nc for variable: sla\n",
      "Appended data for sla from file: cmems_sea_level-sla-1d-20240522_20240522-nrt.nc\n",
      "Averaged data for sla on 2024-05-22 00:00:00:\n"
     ]
    },
    {
     "name": "stderr",
     "output_type": "stream",
     "text": [
      "Date progress...:  30%|███       | 3/10 [00:54<02:05, 17.88s/it]"
     ]
    },
    {
     "name": "stdout",
     "output_type": "stream",
     "text": [
      "Opening file: cmems_sea_level-sla-1d-20240523_20240523-nrt.nc for variable: sla\n",
      "Appended data for sla from file: cmems_sea_level-sla-1d-20240523_20240523-nrt.nc\n",
      "Averaged data for sla on 2024-05-23 00:00:00:\n"
     ]
    },
    {
     "name": "stderr",
     "output_type": "stream",
     "text": [
      "Date progress...:  40%|████      | 4/10 [01:11<01:46, 17.75s/it]"
     ]
    },
    {
     "name": "stdout",
     "output_type": "stream",
     "text": [
      "Opening file: cmems_sea_level-sla-1d-20240524_20240524-nrt.nc for variable: sla\n",
      "Appended data for sla from file: cmems_sea_level-sla-1d-20240524_20240524-nrt.nc\n",
      "Averaged data for sla on 2024-05-24 00:00:00:\n"
     ]
    },
    {
     "name": "stderr",
     "output_type": "stream",
     "text": [
      "Date progress...:  50%|█████     | 5/10 [01:29<01:28, 17.71s/it]"
     ]
    },
    {
     "name": "stdout",
     "output_type": "stream",
     "text": [
      "Opening file: cmems_sea_level-sla-1d-20240525_20240525-nrt.nc for variable: sla\n",
      "Appended data for sla from file: cmems_sea_level-sla-1d-20240525_20240525-nrt.nc\n",
      "Averaged data for sla on 2024-05-25 00:00:00:\n"
     ]
    },
    {
     "name": "stderr",
     "output_type": "stream",
     "text": [
      "Date progress...:  60%|██████    | 6/10 [01:46<01:10, 17.66s/it]"
     ]
    },
    {
     "name": "stdout",
     "output_type": "stream",
     "text": [
      "Opening file: cmems_sea_level-sla-1d-20240526_20240526-nrt.nc for variable: sla\n",
      "Appended data for sla from file: cmems_sea_level-sla-1d-20240526_20240526-nrt.nc\n",
      "Averaged data for sla on 2024-05-26 00:00:00:\n"
     ]
    },
    {
     "name": "stderr",
     "output_type": "stream",
     "text": [
      "Date progress...:  70%|███████   | 7/10 [02:04<00:52, 17.65s/it]"
     ]
    },
    {
     "name": "stdout",
     "output_type": "stream",
     "text": [
      "Opening file: cmems_sea_level-sla-1d-20240527_20240527-nrt.nc for variable: sla\n",
      "Appended data for sla from file: cmems_sea_level-sla-1d-20240527_20240527-nrt.nc\n",
      "Averaged data for sla on 2024-05-27 00:00:00:\n"
     ]
    },
    {
     "name": "stderr",
     "output_type": "stream",
     "text": [
      "Date progress...:  80%|████████  | 8/10 [02:22<00:35, 17.69s/it]"
     ]
    },
    {
     "name": "stdout",
     "output_type": "stream",
     "text": [
      "Opening file: cmems_sea_level-sla-1d-20240528_20240528-nrt.nc for variable: sla\n",
      "Appended data for sla from file: cmems_sea_level-sla-1d-20240528_20240528-nrt.nc\n",
      "Averaged data for sla on 2024-05-28 00:00:00:\n"
     ]
    },
    {
     "name": "stderr",
     "output_type": "stream",
     "text": [
      "Date progress...:  90%|█████████ | 9/10 [02:39<00:17, 17.68s/it]"
     ]
    },
    {
     "name": "stdout",
     "output_type": "stream",
     "text": [
      "Opening file: cmems_sea_level-sla-1d-20240529_20240529-nrt.nc for variable: sla\n",
      "Appended data for sla from file: cmems_sea_level-sla-1d-20240529_20240529-nrt.nc\n",
      "Averaged data for sla on 2024-05-29 00:00:00:\n"
     ]
    },
    {
     "name": "stderr",
     "output_type": "stream",
     "text": [
      "Date progress...: 100%|██████████| 10/10 [02:57<00:00, 17.77s/it]\n",
      "Date progress...: 0it [00:00, ?it/s]\n",
      "Date progress...: 0it [00:00, ?it/s]\n",
      "Date progress...:   0%|          | 0/10 [00:00<?, ?it/s]"
     ]
    },
    {
     "name": "stdout",
     "output_type": "stream",
     "text": [
      "Opening file: viirs_suomi-chl_oc5_pic-1d-20240520_20240520-nrt.nc for variable: pic\n",
      "Appended data for pic from file: viirs_suomi-chl_oc5_pic-1d-20240520_20240520-nrt.nc\n",
      "Averaged data for pic on 2024-05-20 00:00:00:\n"
     ]
    },
    {
     "name": "stderr",
     "output_type": "stream",
     "text": [
      "Date progress...:  10%|█         | 1/10 [00:31<04:43, 31.54s/it]"
     ]
    },
    {
     "name": "stdout",
     "output_type": "stream",
     "text": [
      "Opening file: viirs_suomi-chl_oc5_pic-1d-20240521_20240521-nrt.nc for variable: pic\n",
      "Appended data for pic from file: viirs_suomi-chl_oc5_pic-1d-20240521_20240521-nrt.nc\n",
      "Averaged data for pic on 2024-05-21 00:00:00:\n"
     ]
    },
    {
     "name": "stderr",
     "output_type": "stream",
     "text": [
      "Date progress...:  20%|██        | 2/10 [01:03<04:12, 31.59s/it]"
     ]
    },
    {
     "name": "stdout",
     "output_type": "stream",
     "text": [
      "Opening file: viirs_suomi-chl_oc5_pic-1d-20240522_20240522-nrt.nc for variable: pic\n",
      "Appended data for pic from file: viirs_suomi-chl_oc5_pic-1d-20240522_20240522-nrt.nc\n",
      "Averaged data for pic on 2024-05-22 00:00:00:\n"
     ]
    },
    {
     "name": "stderr",
     "output_type": "stream",
     "text": [
      "Date progress...:  30%|███       | 3/10 [01:34<03:41, 31.68s/it]"
     ]
    },
    {
     "name": "stdout",
     "output_type": "stream",
     "text": [
      "Opening file: viirs_suomi-chl_oc5_pic-1d-20240523_20240523-nrt.nc for variable: pic\n",
      "Appended data for pic from file: viirs_suomi-chl_oc5_pic-1d-20240523_20240523-nrt.nc\n",
      "Averaged data for pic on 2024-05-23 00:00:00:\n"
     ]
    },
    {
     "name": "stderr",
     "output_type": "stream",
     "text": [
      "Date progress...:  40%|████      | 4/10 [02:06<03:09, 31.57s/it]"
     ]
    },
    {
     "name": "stdout",
     "output_type": "stream",
     "text": [
      "Opening file: viirs_suomi-chl_oc5_pic-1d-20240524_20240524-nrt.nc for variable: pic\n",
      "Appended data for pic from file: viirs_suomi-chl_oc5_pic-1d-20240524_20240524-nrt.nc\n",
      "Averaged data for pic on 2024-05-24 00:00:00:\n"
     ]
    },
    {
     "name": "stderr",
     "output_type": "stream",
     "text": [
      "Date progress...:  50%|█████     | 5/10 [02:40<02:42, 32.58s/it]"
     ]
    },
    {
     "name": "stdout",
     "output_type": "stream",
     "text": [
      "Opening file: viirs_suomi-chl_oc5_pic-1d-20240525_20240525-nrt.nc for variable: pic\n",
      "Appended data for pic from file: viirs_suomi-chl_oc5_pic-1d-20240525_20240525-nrt.nc\n",
      "Averaged data for pic on 2024-05-25 00:00:00:\n"
     ]
    },
    {
     "name": "stderr",
     "output_type": "stream",
     "text": [
      "Date progress...:  60%|██████    | 6/10 [03:12<02:08, 32.18s/it]"
     ]
    },
    {
     "name": "stdout",
     "output_type": "stream",
     "text": [
      "Opening file: viirs_suomi-chl_oc5_pic-1d-20240526_20240526-nrt.nc for variable: pic\n",
      "Appended data for pic from file: viirs_suomi-chl_oc5_pic-1d-20240526_20240526-nrt.nc\n",
      "Averaged data for pic on 2024-05-26 00:00:00:\n"
     ]
    },
    {
     "name": "stderr",
     "output_type": "stream",
     "text": [
      "Date progress...:  70%|███████   | 7/10 [03:43<01:36, 32.00s/it]"
     ]
    },
    {
     "name": "stdout",
     "output_type": "stream",
     "text": [
      "Opening file: viirs_suomi-chl_oc5_pic-1d-20240527_20240527-nrt.nc for variable: pic\n",
      "Appended data for pic from file: viirs_suomi-chl_oc5_pic-1d-20240527_20240527-nrt.nc\n",
      "Averaged data for pic on 2024-05-27 00:00:00:\n"
     ]
    },
    {
     "name": "stderr",
     "output_type": "stream",
     "text": [
      "Date progress...:  80%|████████  | 8/10 [04:15<01:03, 31.79s/it]"
     ]
    },
    {
     "name": "stdout",
     "output_type": "stream",
     "text": [
      "Opening file: viirs_suomi-chl_oc5_pic-1d-20240528_20240528-nrt.nc for variable: pic\n",
      "Appended data for pic from file: viirs_suomi-chl_oc5_pic-1d-20240528_20240528-nrt.nc\n",
      "Averaged data for pic on 2024-05-28 00:00:00:\n"
     ]
    },
    {
     "name": "stderr",
     "output_type": "stream",
     "text": [
      "Date progress...:  90%|█████████ | 9/10 [04:46<00:31, 31.68s/it]"
     ]
    },
    {
     "name": "stdout",
     "output_type": "stream",
     "text": [
      "Opening file: viirs_suomi-chl_oc5_pic-1d-20240529_20240529-nrt.nc for variable: pic\n",
      "Appended data for pic from file: viirs_suomi-chl_oc5_pic-1d-20240529_20240529-nrt.nc\n",
      "Averaged data for pic on 2024-05-29 00:00:00:\n"
     ]
    },
    {
     "name": "stderr",
     "output_type": "stream",
     "text": [
      "Date progress...: 100%|██████████| 10/10 [05:18<00:00, 31.81s/it]\n"
     ]
    }
   ],
   "source": [
    "# Plotting loop\n",
    "\n",
    "zoom_plot = False\n",
    "\n",
    "csv_file = 'C:\\\\Users\\\\hanshil\\\\Documents\\\\GitHub\\\\biocarbon_nrt_data_viz\\\\Plotting_tools\\\\shared_data\\\\rt_positions.csv'  # Update this path\n",
    "df = pd.read_csv(csv_file)\n",
    "\n",
    "# 130km circle around deploy point\n",
    "circle_points = generate_circle_points(60, -24, 444)\n",
    "circle_lats, circle_lons = circle_points[:, 0], circle_points[:, 1]\n",
    "\n",
    "# Load float positions\n",
    "float_position_path = os.path.join(floats_dir, 'Float_positions_2024_05_25.csv')\n",
    "full_position = pd.read_csv(float_position_path)\n",
    "\n",
    "# Convert the 'time' column to datetime\n",
    "df['date'] = pd.to_datetime(df['date'])\n",
    "\n",
    "# Define the date_of_plot as a string in the format 'YYYY-MM-DD'\n",
    "date_of_plot = '2024-05-30'  # Example date\n",
    "date_of_plot_dt = datetime.strptime(date_of_plot, '%Y-%m-%d')\n",
    "\n",
    "# Define unique symbols for different object types\n",
    "object_symbols = {\n",
    "    'glider': 'o',\n",
    "    'Float': 's',\n",
    "    'Ship'  : '^'\n",
    "    # Add more object types and their symbols here\n",
    "}\n",
    "\n",
    "# Define colors for different objects\n",
    "object_colors = {\n",
    "    'unit_345': '#53599A',  # Example color\n",
    "    'unit_397': '#7A7FB8',\n",
    "    'unit_398': '#AFB3D4',\n",
    "    'unit_405': '#32365D',\n",
    "    'lovuse026d': '#F7A072',  # Example color\n",
    "    'lovuse031c': '#F47E3E',  # Example color\n",
    "    'lovuse032c': '#D4520C',  # Example color\n",
    "    'Discovery' : '#70163C'\n",
    "    # Add more object names and their colors here\n",
    "}\n",
    "# Date strings for plotting\n",
    "dates_to_plot = get_dates_between(start_date, end_date)\n",
    "\n",
    "for var_category, files in var_dict.items():\n",
    "\n",
    "    if skip_chla and var_category == 'chl':\n",
    "        continue\n",
    "    if skip_sst and var_category == 'temp':\n",
    "        continue\n",
    "    if skip_sla and var_category == 'sla':\n",
    "        continue\n",
    "    if skip_pic and var_category == 'pic':\n",
    "        continue\n",
    "\n",
    "    for date, files_per_day in tqdm(files.items(), desc='Date progress...'):  # Iterate over each day\n",
    "\n",
    "        if date.strftime(\"%Y-%m-%d\") not in dates_to_plot:\n",
    "            continue\n",
    "\n",
    "        daily_data = []  # List to store data variables\n",
    "\n",
    "        # Collect all data variables for the day\n",
    "        for file, data_var in files_per_day:\n",
    "            try:\n",
    "                print(f\"Opening file: {file} for variable: {data_var}\")\n",
    "                cur_data_var = xr.open_dataset(os.path.join(NEODASS_dir, file))[data_var]\n",
    "                daily_data.append(cur_data_var)\n",
    "                print(f\"Appended data for {data_var} from file: {file}\")\n",
    "            except Exception as e:\n",
    "                print(f\"Error processing file: {file} for variable: {data_var}. Error: {e}\")\n",
    "\n",
    "        # Align all datasets spatially\n",
    "        aligned_data = xr.align(*daily_data, join='outer') \n",
    "        \n",
    "        # Combine aligned data into a single dataset\n",
    "        combined_data = xr.concat(aligned_data, dim='time').mean(dim='time', skipna=True)\n",
    "\n",
    "        print(f\"Averaged data for {var_category} on {date}:\")\n",
    "        # Print or process combined_data as needed\n",
    "\n",
    "        # Format the date for plot title\n",
    "        date_of_plot = date.strftime(\"%Y-%m-%d\")\n",
    "        \n",
    "        #print(*daily_data, sep='\\n')\n",
    "        #print(combined_data, sep='\\n')\n",
    "\n",
    "\n",
    "        if var_category == 'chl':\n",
    "            xx_plot_units = cur_data_var.attrs.get('units')\n",
    "            xx_plot_cbar_label = 'Chlorophyll (' + xx_plot_units + ')'\n",
    "            xx_plot_min = CHLA_plot_lim_min\n",
    "            xx_plot_max = CHLA_plot_lim_max\n",
    "            color = CHLA_color\n",
    "            log_scaling = CHLA_plot_as_log\n",
    "            xx_output_dir_name = 'Chla'\n",
    "\n",
    "        elif var_category == 'temp':\n",
    "            xx_plot_units = cur_data_var.attrs.get('units')\n",
    "            if xx_plot_units == 'kelvin':\n",
    "                # Convert Kelvin to Celsius\n",
    "                combined_data = combined_data - 273.15\n",
    "                degree_sign = u'\\N{DEGREE SIGN}'\n",
    "                xx_plot_cbar_label = 'Sea Surface Temperature (' + degree_sign + 'C)'\n",
    "                xx_plot_min = SST_plot_lim_min\n",
    "                xx_plot_max = SST_plot_lim_max\n",
    "                color = SST_color\n",
    "                log_scaling = SST_plot_as_log\n",
    "                xx_output_dir_name = 'SST'\n",
    "                \n",
    "        elif var_category == 'sla':\n",
    "            xx_plot_units = cur_data_var.attrs.get('units')\n",
    "            xx_plot_cbar_label = 'Sea level anomaly (' + xx_plot_units + ')'\n",
    "            xx_plot_min = SSH_plot_lim_min\n",
    "            xx_plot_max = SSH_plot_lim_max\n",
    "            color = SSH_color\n",
    "            log_scaling = SSH_plot_as_log\n",
    "            xx_output_dir_name = 'SLA'\n",
    "\n",
    "        elif var_category == 'adt':\n",
    "            xx_plot_units = cur_data_var.attrs.get('units')\n",
    "            xx_plot_cbar_label = 'Sea surface velocity (' + xx_plot_units + 's$^{-1}$)'\n",
    "            xx_plot_min = SSH_plot_lim_min\n",
    "            xx_plot_max = SSH_plot_lim_max\n",
    "            color = SSH_color\n",
    "            log_scaling = SSH_plot_as_log\n",
    "            xx_output_dir_name = 'SSC'\n",
    "\n",
    "        elif var_category == 'bbp':\n",
    "            xx_plot_units = cur_data_var.attrs.get('units')\n",
    "            xx_plot_cbar_label = 'Particulate backscatter (' + xx_plot_units + ')'\n",
    "            xx_plot_min = BBP_plot_lim_min\n",
    "            xx_plot_max = BBP_plot_lim_max\n",
    "            color = BBP_color\n",
    "            log_scaling = BBP_plot_as_log\n",
    "            xx_output_dir_name = 'BBP'\n",
    "\n",
    "        elif var_category == 'pic':\n",
    "            xx_plot_units = cur_data_var.attrs.get('units')\n",
    "            xx_plot_cbar_label = 'PIC (' + xx_plot_units + ')'\n",
    "            xx_plot_min = PIC_plot_lim_min\n",
    "            xx_plot_max = PIC_plot_lim_max\n",
    "            color = PIC_color\n",
    "            log_scaling = PIC_plot_as_log\n",
    "            xx_output_dir_name = 'PIC'\n",
    "\n",
    "        # Dependant settings based on each variable type\n",
    "        else:\n",
    "            print(f\"No settings set for '{var_category}', skipping!\")\n",
    "            continue\n",
    "        \n",
    "        norm = colors.LogNorm(vmin=xx_plot_min, vmax=xx_plot_max) if log_scaling else colors.Normalize(vmin=xx_plot_min, vmax=xx_plot_max) # Setting color scale based on Log options.\n",
    "        #print(combined_data.max())\n",
    "        #print(combined_data.min())\n",
    "        # Plotting\n",
    "\n",
    "        combined_data = np.clip(combined_data, xx_plot_min, xx_plot_max)\n",
    "        fig = plt.figure(figsize=(20, 10))\n",
    "        ax = fig.add_subplot(1, 1, 1, projection=ccrs.Mercator())\n",
    "        ax.set_extent([min_lon, max_lon, min_lat, max_lat], crs=ccrs.PlateCarree())\n",
    "        im = ax.pcolormesh(combined_data['longitude'], combined_data['latitude'], \n",
    "                            combined_data, \n",
    "                            cmap=color, \n",
    "                            norm=norm, \n",
    "                            transform=ccrs.PlateCarree())\n",
    "        \n",
    "        cbar = plt.colorbar(im, ax=ax, label=xx_plot_cbar_label)\n",
    "\n",
    "        legend_handles = []\n",
    "        # Process each unique object type\n",
    "        # Filter out rows with 'time' greater than date_of_plot\n",
    "\n",
    "        df_filtered = df[df['date'] <= date_of_plot]\n",
    "\n",
    "        for obj_type, symbol in object_symbols.items():\n",
    "\n",
    "            if obj_type == 'ship':\n",
    "                continue\n",
    "            if obj_type == 'glider':\n",
    "                continue\n",
    "\n",
    "            # Filter data for the current object type\n",
    "            type_data = df_filtered[df_filtered['platform_type'] == obj_type]\n",
    "            unique_names = type_data['platform_id'].unique()\n",
    "            \n",
    "            for name in unique_names:\n",
    "\n",
    "                obj_data = type_data[type_data['platform_id'] == name].sort_values(by='date', ascending=False)  # Sort in descending order\n",
    "                \n",
    "                # Get the colors and opacities for the points\n",
    "                rgba_color = to_rgba(object_colors.get(name, '#000000'))  # Default to black if not found\n",
    "                num_positions = len(obj_data)\n",
    "                alphas = np.linspace(1, 0.1, min(num_positions, 10))  # Reverse the opacity gradient\n",
    "        \n",
    "                # Plot the positions and lines, with the first 10 points having a decreasing alpha\n",
    "                for i, (index, row) in enumerate(obj_data.iterrows()):\n",
    "                    if i >= 10:  # Only plot up to the 10 most recent points\n",
    "                        break\n",
    "                    alpha = alphas[i]\n",
    "                    rgba_color_with_alpha = (*rgba_color[:3], alpha)\n",
    "                    marker_edge_color = (*rgba_color[:3], alpha)  # Marker edge color follows opacity gradient\n",
    "                    ax.scatter(row['lon'], row['lat'], color=rgba_color_with_alpha, edgecolor=marker_edge_color, \n",
    "                               transform=ccrs.PlateCarree(), zorder=3, marker=symbol, s=100)\n",
    "        \n",
    "                    if i > 0:\n",
    "                        prev_row = obj_data.iloc[i - 1]\n",
    "                        ax.plot([prev_row['lon'], row['lon']],\n",
    "                                [prev_row['lat'], row['lat']],\n",
    "                                color=rgba_color_with_alpha, transform=ccrs.PlateCarree(), zorder=2)\n",
    "        \n",
    "                # Create a proxy artist for each object\n",
    "                proxy = plt.Line2D([0], [0], linestyle='-', marker=symbol, color=object_colors.get(name, '#000000'), label=name)\n",
    "                legend_handles.append(proxy)\n",
    "    \n",
    "        # Deploy point position marker\n",
    "        sc3 = ax.scatter(-24,60,transform=ccrs.PlateCarree(), edgecolors='black', facecolors='none', marker='s')\n",
    "        ax.plot(circle_lons, circle_lats, transform=ccrs.PlateCarree(), color='black')\n",
    "        \n",
    "        gdf_1000.plot(ax=ax, transform=ccrs.PlateCarree(), linewidth=0.5, edgecolor='k', facecolor='none')\n",
    "        gdf_2000.plot(ax=ax, transform=ccrs.PlateCarree(), linewidth=0.3, edgecolor='k', facecolor='none')\n",
    "\n",
    "        # Add coastlines\n",
    "        ax.add_feature(cfeature.COASTLINE)\n",
    "\n",
    "        # Add lon/lat grid and adjust labels\n",
    "        gl = ax.gridlines(draw_labels=True, x_inline=False, y_inline=False, crs=ccrs.PlateCarree())\n",
    "        gl.top_labels = False\n",
    "        gl.right_labels = False\n",
    "\n",
    "        # Plot title\n",
    "        plot_title = f'NEODASS_{xx_output_dir_name} {date_of_plot}'\n",
    "        ax.set_title(plot_title, fontsize=24)\n",
    "\n",
    "        # Add legend in\n",
    "        deploy_point_proxy = plt.Line2D([0], [0], linestyle='none', marker='s', color='black', markersize=10, markerfacecolor='none', label='Deploy Point')\n",
    "        legend_handles.append(deploy_point_proxy)\n",
    "        ax.legend(handles=legend_handles, loc='lower left')\n",
    "\n",
    "        # Save output\n",
    "        save_dir = os.path.join(output_dir, f'{xx_output_dir_name}{\"_log\" if log_scaling else \"\"}_TEST_autonomy')\n",
    "        if not os.path.exists(save_dir):\n",
    "            os.makedirs(save_dir)\n",
    "        basename_suffix = base_name[:10]\n",
    "        filename = f'{xx_output_dir_name}{\"_log\" if log_scaling else \"\"}_{date_of_plot}_NEODASS.png'\n",
    "        plt.savefig(os.path.join(save_dir, filename))\n",
    "        \n",
    "        plt.clf()\n",
    "        plt.close()"
   ]
  }
 ],
 "metadata": {
  "kernelspec": {
   "display_name": "BIOCarbon_Conda_Env",
   "language": "python",
   "name": "python3"
  },
  "language_info": {
   "codemirror_mode": {
    "name": "ipython",
    "version": 3
   },
   "file_extension": ".py",
   "mimetype": "text/x-python",
   "name": "python",
   "nbconvert_exporter": "python",
   "pygments_lexer": "ipython3",
   "version": "3.12.3"
  }
 },
 "nbformat": 4,
 "nbformat_minor": 2
}
