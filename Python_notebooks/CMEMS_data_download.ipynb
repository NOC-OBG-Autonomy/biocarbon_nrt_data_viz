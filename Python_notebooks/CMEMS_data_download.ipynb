{
 "cells": [
  {
   "cell_type": "code",
   "execution_count": 9,
   "metadata": {},
   "outputs": [],
   "source": [
    "import os\n",
    "import copernicusmarine as cpm\n",
    "from pathlib import Path\n",
    "import ast\n",
    "from datetime import datetime"
   ]
  },
  {
   "cell_type": "code",
   "execution_count": 10,
   "metadata": {},
   "outputs": [
    {
     "name": "stdout",
     "output_type": "stream",
     "text": [
      "'data' folder already exists in the parent directory.\n",
      "'satellite' directory already exists inside 'data' folder.\n"
     ]
    }
   ],
   "source": [
    "def create_missing_directories():\n",
    "    # Define the path to the parent directory\n",
    "    parent_dir = os.path.abspath(os.path.join(os.getcwd(), os.pardir))\n",
    "\n",
    "    # Check if 'data' folder exists in the parent directory\n",
    "    data_dir = os.path.join(parent_dir, 'data')\n",
    "    if not os.path.exists(data_dir):\n",
    "        os.makedirs(data_dir)\n",
    "        print(\"'data' folder created in the parent directory.\")\n",
    "    else:\n",
    "        print(\"'data' folder already exists in the parent directory.\")\n",
    "\n",
    "    # Check if 'satellite' directory exists inside 'data' folder\n",
    "    satellite_dir = os.path.join(data_dir, 'satellite')\n",
    "    if not os.path.exists(satellite_dir):\n",
    "        os.makedirs(satellite_dir)\n",
    "        print(\"'satellite' directory created inside 'data' folder.\")\n",
    "    else:\n",
    "        print(\"'satellite' directory already exists inside 'data' folder.\")\n",
    "\n",
    "if __name__ == \"__main__\":\n",
    "    create_missing_directories()\n"
   ]
  },
  {
   "cell_type": "code",
   "execution_count": 14,
   "metadata": {},
   "outputs": [
    {
     "name": "stdout",
     "output_type": "stream",
     "text": [
      "20240715\n",
      "c:\\Users\\hanshil\\Documents\\GitHub\\biocarbon_nrt_data_viz\\Python_notebooks\n"
     ]
    }
   ],
   "source": [
    "# List of datasets to extract\n",
    "datasets_to_extract = [\n",
    "    'cmems_obs-oc_atl_bgc-plankton_nrt_l3-multi-1km_P1D',        # Chla\n",
    "    'cmems_obs-oc_atl_bgc-optics_nrt_l3-multi-1km_P1D',          # bbp\n",
    "    'cmems_obs-sl_eur_phy-ssh_nrt_allsat-l4-duacs-0.125deg_P1D', # currents   (higher res, low(ish) scope)\n",
    "    'cmems_mod_glo_bgc-car_anfc_0.25deg_P1D-m',                  # carbonate\n",
    "    'cmems_obs_mob_glo_phy-cur_nrt_0.25deg_P1D-m',               # currents 2 (low res, wider scope)\n",
    "    'cmems_mod_glo_phy-cur_anfc_0.083deg_P1D-m']                 # currents 3 (modelled product)\n",
    "\n",
    "# Directory setup\n",
    "parent_dir = os.path.abspath(os.path.join(os.getcwd()))\n",
    "data_dir   = os.path.join(parent_dir, 'data')\n",
    "satellite_dir = os.path.join(data_dir, 'satellite')\n",
    "\n",
    "# Date and time setup\n",
    "start_time = \"2024-07-08T00:00:00\"  # Format time as YYYY-MM-DD\"T\"HH:MM:SS\n",
    "now = datetime.now()\n",
    "end_time = now.strftime(\"%Y-%m-%dT%H:%M:%S\")\n",
    "end_time2 = now.strftime(\"%Y%m%d\")\n",
    "print(end_time2)\n",
    "\n",
    "print(parent_dir)"
   ]
  },
  {
   "cell_type": "code",
   "execution_count": null,
   "metadata": {},
   "outputs": [],
   "source": [
    "\n",
    "# Geographical bounds\n",
    "min_depth = 0\n",
    "max_depth = 1000\n",
    "min_lon = -35\n",
    "max_lon = -5\n",
    "min_lat = 55\n",
    "max_lat = 66\n",
    "\n",
    "# Loop through each dataset\n",
    "for dataset_to_extract in datasets_to_extract:\n",
    "    # Dynamically set the output filename based on the dataset name\n",
    "    saved_netCDF_as = f\"CMEMS_{dataset_to_extract}_April-May2024.nc\"\n",
    "    filepath = os.path.join(satellite_dir, saved_netCDF_as)\n",
    "\n",
    "    # Check if the file already exists\n",
    "    if os.path.exists(filepath):\n",
    "        response = input(f\"Do you want to remove and overwrite the file \\\"{saved_netCDF_as}\\\" (y/n): \").strip().lower()\n",
    "        if response == 'y':\n",
    "            os.remove(filepath)\n",
    "            print(f\"{filepath} has been removed.\")\n",
    "            print(f\"{saved_netCDF_as}. Proceeding to download.\")\n",
    "        else:\n",
    "            print(\"Download canceled.\")\n",
    "            continue\n",
    "    else:\n",
    "        print(f\"{saved_netCDF_as} does not exist. Proceeding to download.\")\n",
    "    \n",
    "    # Perform the data subset operation\n",
    "    cpm.subset(\n",
    "        dataset_id=dataset_to_extract,\n",
    "        minimum_longitude=min_lon,\n",
    "        maximum_longitude=max_lon,\n",
    "        minimum_latitude=min_lat,\n",
    "        maximum_latitude=max_lat,\n",
    "        start_datetime=start_time,\n",
    "        end_datetime=end_time,\n",
    "        minimum_depth=min_depth,\n",
    "        maximum_depth=max_depth,\n",
    "        output_filename=saved_netCDF_as,\n",
    "        output_directory=satellite_dir\n",
    "    )"
   ]
  }
 ],
 "metadata": {
  "kernelspec": {
   "display_name": "BIOCarbon_Conda_Env",
   "language": "python",
   "name": "python3"
  },
  "language_info": {
   "codemirror_mode": {
    "name": "ipython",
    "version": 3
   },
   "file_extension": ".py",
   "mimetype": "text/x-python",
   "name": "python",
   "nbconvert_exporter": "python",
   "pygments_lexer": "ipython3",
   "version": "3.12.3"
  }
 },
 "nbformat": 4,
 "nbformat_minor": 2
}
