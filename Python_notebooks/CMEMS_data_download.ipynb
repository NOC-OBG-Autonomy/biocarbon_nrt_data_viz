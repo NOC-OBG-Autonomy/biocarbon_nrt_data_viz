{
 "cells": [
  {
   "cell_type": "code",
   "execution_count": 2,
   "metadata": {},
   "outputs": [
    {
     "name": "stderr",
     "output_type": "stream",
     "text": [
      "c:\\Users\\hanshil\\.conda\\envs\\BIOCarbon_Conda_Env\\Lib\\site-packages\\tqdm\\auto.py:21: TqdmWarning: IProgress not found. Please update jupyter and ipywidgets. See https://ipywidgets.readthedocs.io/en/stable/user_install.html\n",
      "  from .autonotebook import tqdm as notebook_tqdm\n"
     ]
    }
   ],
   "source": [
    "import os\n",
    "import copernicusmarine as cpm\n",
    "from pathlib import Path\n",
    "import ast\n",
    "from datetime import datetime"
   ]
  },
  {
   "cell_type": "code",
   "execution_count": 3,
   "metadata": {},
   "outputs": [
    {
     "name": "stdout",
     "output_type": "stream",
     "text": [
      "'data' folder already exists in the parent directory.\n",
      "'satellite' directory already exists inside 'data' folder.\n"
     ]
    }
   ],
   "source": [
    "def create_missing_directories():\n",
    "    # Define the path to the parent directory\n",
    "    parent_dir = os.path.abspath(os.path.join(os.getcwd(), os.pardir))\n",
    "\n",
    "    # Check if 'data' folder exists in the parent directory\n",
    "    data_dir = os.path.join(parent_dir, 'data')\n",
    "    if not os.path.exists(data_dir):\n",
    "        os.makedirs(data_dir)\n",
    "        print(\"'data' folder created in the parent directory.\")\n",
    "    else:\n",
    "        print(\"'data' folder already exists in the parent directory.\")\n",
    "\n",
    "    # Check if 'satellite' directory exists inside 'data' folder\n",
    "    satellite_dir = os.path.join(data_dir, 'satellite')\n",
    "    if not os.path.exists(satellite_dir):\n",
    "        os.makedirs(satellite_dir)\n",
    "        print(\"'satellite' directory created inside 'data' folder.\")\n",
    "    else:\n",
    "        print(\"'satellite' directory already exists inside 'data' folder.\")\n",
    "\n",
    "if __name__ == \"__main__\":\n",
    "    create_missing_directories()"
   ]
  },
  {
   "cell_type": "code",
   "execution_count": 4,
   "metadata": {},
   "outputs": [
    {
     "name": "stdout",
     "output_type": "stream",
     "text": [
      "Download canceled.\n",
      "Download canceled.\n",
      "c:\\Users\\hanshil\\Documents\\GitHub\\biocarbon_nrt_data_viz\\data\\satellite\\CMEMS_cmems_obs-sl_eur_phy-ssh_nrt_allsat-l4-duacs-0.125deg_P1D_April-May2024.nc has been removed.\n",
      "CMEMS_cmems_obs-sl_eur_phy-ssh_nrt_allsat-l4-duacs-0.125deg_P1D_April-May2024.nc. Proceeding to download.\n",
      "INFO - 2024-06-14T07:26:27Z - Dataset version was not specified, the latest one was selected: \"202311\"\n",
      "INFO - 2024-06-14T07:26:27Z - Dataset part was not specified, the first one was selected: \"default\"\n",
      "INFO - 2024-06-14T07:26:35Z - Service was not specified, the default one was selected: \"arco-geo-series\"\n",
      "WARNING - 2024-06-14T07:26:39Z - Some or all of your subset selection [-35.0, -5.0] for the longitude dimension  exceed the dataset coordinates [-30.0625, 42.0625]\n",
      "WARNING - 2024-06-14T07:26:39Z - Some or all of your subset selection [2024-06-10 00:00:00, 2024-06-14 08:26:19] for the time dimension  exceed the dataset coordinates [2022-01-01 00:00:00, 2024-06-14 00:00:00]\n",
      "INFO - 2024-06-14T07:26:39Z - Downloading using service arco-geo-series...\n",
      "INFO - 2024-06-14T07:26:43Z - <xarray.Dataset> Size: 7MB\n",
      "Dimensions:    (time: 5, latitude: 88, longitude: 201, nv: 2)\n",
      "Coordinates:\n",
      "    lat_bnds   (latitude, nv) float32 704B dask.array<chunksize=(88, 2), meta=np.ndarray>\n",
      "  * latitude   (latitude) float32 352B 55.06 55.19 55.31 ... 65.69 65.81 65.94\n",
      "    lon_bnds   (longitude, nv) float32 2kB dask.array<chunksize=(201, 2), meta=np.ndarray>\n",
      "  * longitude  (longitude) float32 804B -30.06 -29.94 -29.81 ... -5.188 -5.062\n",
      "  * nv         (nv) int32 8B 0 1\n",
      "  * time       (time) datetime64[ns] 40B 2024-06-10 2024-06-11 ... 2024-06-14\n",
      "Data variables:\n",
      "    adt        (time, latitude, longitude) float64 708kB dask.array<chunksize=(2, 88, 201), meta=np.ndarray>\n",
      "    err_sla    (time, latitude, longitude) float64 708kB dask.array<chunksize=(2, 88, 201), meta=np.ndarray>\n",
      "    err_ugosa  (time, latitude, longitude) float64 708kB dask.array<chunksize=(2, 88, 201), meta=np.ndarray>\n",
      "    err_vgosa  (time, latitude, longitude) float64 708kB dask.array<chunksize=(2, 88, 201), meta=np.ndarray>\n",
      "    flag_ice   (time, latitude, longitude) float64 708kB dask.array<chunksize=(2, 88, 201), meta=np.ndarray>\n",
      "    sla        (time, latitude, longitude) float64 708kB dask.array<chunksize=(2, 88, 201), meta=np.ndarray>\n",
      "    ugos       (time, latitude, longitude) float64 708kB dask.array<chunksize=(2, 88, 201), meta=np.ndarray>\n",
      "    ugosa      (time, latitude, longitude) float64 708kB dask.array<chunksize=(2, 88, 201), meta=np.ndarray>\n",
      "    vgos       (time, latitude, longitude) float64 708kB dask.array<chunksize=(2, 88, 201), meta=np.ndarray>\n",
      "    vgosa      (time, latitude, longitude) float64 708kB dask.array<chunksize=(2, 88, 201), meta=np.ndarray>\n",
      "Attributes: (12/45)\n",
      "    Conventions:                     CF-1.6\n",
      "    Metadata_Conventions:            Unidata Dataset Discovery v1.0\n",
      "    cdm_data_type:                   Grid\n",
      "    comment:                         Sea Surface Height measured by Altimetry...\n",
      "    contact:                         servicedesk.cmems@mercator-ocean.eu\n",
      "    creator_email:                   servicedesk.cmems@mercator-ocean.eu\n",
      "    ...                              ...\n",
      "    time_coverage_duration:          P1D\n",
      "    time_coverage_end:               2023-11-24T12:00:00Z\n",
      "    time_coverage_resolution:        P1D\n",
      "    time_coverage_start:             2023-11-23T12:00:00Z\n",
      "    title:                           NRT merged all satellites European Seas ...\n",
      "    copernicusmarine_version:        1.2.2\n",
      "INFO - 2024-06-14T07:26:43Z - Estimated size of the dataset file is 13.502 MB.\n",
      "Do you want to proceed with download? [Y/n]:INFO - 2024-06-14T07:26:45Z - Writing to local storage. Please wait...\n"
     ]
    },
    {
     "name": "stderr",
     "output_type": "stream",
     "text": [
      "100%|██████████| 188/188 [00:12<00:00, 15.54it/s]"
     ]
    },
    {
     "name": "stdout",
     "output_type": "stream",
     "text": [
      "INFO - 2024-06-14T07:26:58Z - Successfully downloaded to c:\\Users\\hanshil\\Documents\\GitHub\\biocarbon_nrt_data_viz\\data\\satellite\\CMEMS_cmems_obs-sl_eur_phy-ssh_nrt_allsat-l4-duacs-0.125deg_P1D_April-May2024.nc\n"
     ]
    },
    {
     "name": "stderr",
     "output_type": "stream",
     "text": [
      "\n"
     ]
    },
    {
     "name": "stdout",
     "output_type": "stream",
     "text": [
      "c:\\Users\\hanshil\\Documents\\GitHub\\biocarbon_nrt_data_viz\\data\\satellite\\CMEMS_cmems_mod_glo_bgc-car_anfc_0.25deg_P1D-m_April-May2024.nc has been removed.\n",
      "CMEMS_cmems_mod_glo_bgc-car_anfc_0.25deg_P1D-m_April-May2024.nc. Proceeding to download.\n",
      "INFO - 2024-06-14T07:27:02Z - Dataset version was not specified, the latest one was selected: \"202311\"\n",
      "INFO - 2024-06-14T07:27:02Z - Dataset part was not specified, the first one was selected: \"default\"\n",
      "INFO - 2024-06-14T07:27:06Z - Service was not specified, the default one was selected: \"arco-geo-series\"\n",
      "INFO - 2024-06-14T07:27:10Z - Downloading using service arco-geo-series...\n",
      "INFO - 2024-06-14T07:27:15Z - <xarray.Dataset> Size: 327kB\n",
      "Dimensions:    (depth: 1, latitude: 45, longitude: 121, time: 5)\n",
      "Coordinates:\n",
      "  * depth      (depth) float32 4B 0.494\n",
      "  * latitude   (latitude) float32 180B 55.0 55.25 55.5 55.75 ... 65.5 65.75 66.0\n",
      "  * longitude  (longitude) float32 484B -35.0 -34.75 -34.5 ... -5.5 -5.25 -5.0\n",
      "  * time       (time) datetime64[ns] 40B 2024-06-10 2024-06-11 ... 2024-06-14\n",
      "Data variables:\n",
      "    dissic     (time, depth, latitude, longitude) float32 109kB dask.array<chunksize=(1, 1, 45, 121), meta=np.ndarray>\n",
      "    ph         (time, depth, latitude, longitude) float32 109kB dask.array<chunksize=(1, 1, 45, 121), meta=np.ndarray>\n",
      "    talk       (time, depth, latitude, longitude) float32 109kB dask.array<chunksize=(1, 1, 45, 121), meta=np.ndarray>\n",
      "Attributes:\n",
      "    Conventions:                   CF-1.6\n",
      "    area:                          GLOBAL\n",
      "    contact:                       https://marine.copernicus.eu/contact\n",
      "    credit:                        E.U. Copernicus Marine Service Information...\n",
      "    institution:                   Mercator Ocean\n",
      "    licence:                       http://marine.copernicus.eu/services-portf...\n",
      "    producer:                      CMEMS - Global Monitoring and Forecasting ...\n",
      "    quality_information_document:  http://marine.copernicus.eu/documents/QUID...\n",
      "    references:                    http://marine.copernicus.eu\n",
      "    title:                         daily mean fields from Global Ocean Biogeo...\n",
      "    copernicusmarine_version:      1.2.2\n",
      "INFO - 2024-06-14T07:27:15Z - Estimated size of the dataset file is 0.312 MB.\n",
      "Do you want to proceed with download? [Y/n]:INFO - 2024-06-14T07:27:19Z - Writing to local storage. Please wait...\n"
     ]
    },
    {
     "name": "stderr",
     "output_type": "stream",
     "text": [
      "100%|██████████| 62/62 [00:09<00:00,  6.40it/s]"
     ]
    },
    {
     "name": "stdout",
     "output_type": "stream",
     "text": [
      "INFO - 2024-06-14T07:27:29Z - Successfully downloaded to c:\\Users\\hanshil\\Documents\\GitHub\\biocarbon_nrt_data_viz\\data\\satellite\\CMEMS_cmems_mod_glo_bgc-car_anfc_0.25deg_P1D-m_April-May2024.nc\n"
     ]
    },
    {
     "name": "stderr",
     "output_type": "stream",
     "text": [
      "\n"
     ]
    },
    {
     "name": "stdout",
     "output_type": "stream",
     "text": [
      "c:\\Users\\hanshil\\Documents\\GitHub\\biocarbon_nrt_data_viz\\data\\satellite\\CMEMS_cmems_obs_mob_glo_phy-cur_nrt_0.25deg_P1D-m_April-May2024.nc has been removed.\n",
      "CMEMS_cmems_obs_mob_glo_phy-cur_nrt_0.25deg_P1D-m_April-May2024.nc. Proceeding to download.\n",
      "INFO - 2024-06-14T07:27:33Z - Dataset version was not specified, the latest one was selected: \"202311\"\n",
      "INFO - 2024-06-14T07:27:33Z - Dataset part was not specified, the first one was selected: \"default\"\n",
      "INFO - 2024-06-14T07:27:37Z - Service was not specified, the default one was selected: \"arco-geo-series\"\n",
      "WARNING - 2024-06-14T07:27:41Z - Some or all of your subset selection [2024-06-10 00:00:00, 2024-06-14 08:26:19] for the time dimension  exceed the dataset coordinates [2022-01-01 00:00:00, 2024-06-12 00:00:00]\n",
      "INFO - 2024-06-14T07:27:41Z - Downloading using service arco-geo-series...\n",
      "INFO - 2024-06-14T07:27:45Z - <xarray.Dataset> Size: 2MB\n",
      "Dimensions:    (depth: 1, latitude: 44, longitude: 120, time: 3)\n",
      "Coordinates:\n",
      "  * depth      (depth) int16 2B 0\n",
      "  * latitude   (latitude) float32 176B 55.12 55.38 55.62 ... 65.38 65.62 65.88\n",
      "  * longitude  (longitude) float32 480B -34.88 -34.62 -34.38 ... -5.375 -5.125\n",
      "  * time       (time) datetime64[ns] 24B 2024-06-10 2024-06-11 2024-06-12\n",
      "Data variables:\n",
      "    err_ue     (time, depth, latitude, longitude) float64 127kB dask.array<chunksize=(1, 1, 44, 120), meta=np.ndarray>\n",
      "    err_ugos   (time, depth, latitude, longitude) float64 127kB dask.array<chunksize=(1, 1, 44, 120), meta=np.ndarray>\n",
      "    err_uo     (time, depth, latitude, longitude) float64 127kB dask.array<chunksize=(1, 1, 44, 120), meta=np.ndarray>\n",
      "    err_ve     (time, depth, latitude, longitude) float64 127kB dask.array<chunksize=(1, 1, 44, 120), meta=np.ndarray>\n",
      "    err_vgos   (time, depth, latitude, longitude) float64 127kB dask.array<chunksize=(1, 1, 44, 120), meta=np.ndarray>\n",
      "    err_vo     (time, depth, latitude, longitude) float64 127kB dask.array<chunksize=(1, 1, 44, 120), meta=np.ndarray>\n",
      "    ue         (time, depth, latitude, longitude) float64 127kB dask.array<chunksize=(1, 1, 44, 120), meta=np.ndarray>\n",
      "    ugos       (time, latitude, longitude) float64 127kB dask.array<chunksize=(1, 44, 120), meta=np.ndarray>\n",
      "    uo         (time, depth, latitude, longitude) float64 127kB dask.array<chunksize=(1, 1, 44, 120), meta=np.ndarray>\n",
      "    ve         (time, depth, latitude, longitude) float64 127kB dask.array<chunksize=(1, 1, 44, 120), meta=np.ndarray>\n",
      "    vgos       (time, latitude, longitude) float64 127kB dask.array<chunksize=(1, 44, 120), meta=np.ndarray>\n",
      "    vo         (time, depth, latitude, longitude) float64 127kB dask.array<chunksize=(1, 1, 44, 120), meta=np.ndarray>\n",
      "Attributes: (12/18)\n",
      "    Conventions:               CF-1.6\n",
      "    contact:                   servicedesk.cmems@mercator-ocean.eu\n",
      "    creation_date:             2023-10-29 13:12:55\n",
      "    geospatial_lat_units:      degrees_north\n",
      "    geospatial_lon_units:      degrees_east\n",
      "    geospatial_vertical_max:   0.0\n",
      "    ...                        ...\n",
      "    lon_min:                   -179.875\n",
      "    lon_res:                   0.25\n",
      "    product_version:           3.0\n",
      "    references:                Mulet, S., Rio, M.-H., Etienne, H., Artana, C....\n",
      "    title:                     Daily mean total surface and 15m velocities\n",
      "    copernicusmarine_version:  1.2.2\n",
      "INFO - 2024-06-14T07:27:45Z - Estimated size of the dataset file is 1.451 MB.\n",
      "Do you want to proceed with download? [Y/n]:INFO - 2024-06-14T07:27:50Z - Writing to local storage. Please wait...\n"
     ]
    },
    {
     "name": "stderr",
     "output_type": "stream",
     "text": [
      "100%|██████████| 146/146 [00:13<00:00, 10.74it/s]"
     ]
    },
    {
     "name": "stdout",
     "output_type": "stream",
     "text": [
      "INFO - 2024-06-14T07:28:04Z - Successfully downloaded to c:\\Users\\hanshil\\Documents\\GitHub\\biocarbon_nrt_data_viz\\data\\satellite\\CMEMS_cmems_obs_mob_glo_phy-cur_nrt_0.25deg_P1D-m_April-May2024.nc\n"
     ]
    },
    {
     "name": "stderr",
     "output_type": "stream",
     "text": [
      "\n"
     ]
    }
   ],
   "source": [
    "# List of datasets to extract\n",
    "datasets_to_extract = [\n",
    "    'cmems_obs-oc_atl_bgc-plankton_nrt_l3-multi-1km_P1D',        # Chla\n",
    "    'cmems_obs-oc_atl_bgc-optics_nrt_l3-multi-1km_P1D',          # bbp\n",
    "    'cmems_obs-sl_eur_phy-ssh_nrt_allsat-l4-duacs-0.125deg_P1D', # currents\n",
    "    'cmems_mod_glo_bgc-car_anfc_0.25deg_P1D-m',                  # carbonate\n",
    "    'cmems_obs_mob_glo_phy-cur_nrt_0.25deg_P1D-m']               # currents 2\n",
    "\n",
    "# Directory setup\n",
    "parent_dir = os.path.abspath(os.path.join(os.getcwd(), os.pardir))\n",
    "data_dir   = os.path.join(parent_dir, 'data')\n",
    "satellite_dir = os.path.join(data_dir, 'satellite')\n",
    "\n",
    "# Date and time setup\n",
    "start_time = \"2024-06-10T00:00:00\"  # Format time as YYYY-MM-DD\"T\"HH:MM:SS\n",
    "now = datetime.now()\n",
    "end_time = now.strftime(\"%Y-%m-%dT%H:%M:%S\")\n",
    "\n",
    "# Geographical bounds\n",
    "min_depth = 0\n",
    "max_depth = 1\n",
    "min_lon = -35\n",
    "max_lon = -5\n",
    "min_lat = 55\n",
    "max_lat = 66\n",
    "\n",
    "# Loop through each dataset\n",
    "for dataset_to_extract in datasets_to_extract:\n",
    "    # Dynamically set the output filename based on the dataset name\n",
    "    saved_netCDF_as = f\"CMEMS_{dataset_to_extract}_April-May2024.nc\"\n",
    "    filepath = os.path.join(satellite_dir, saved_netCDF_as)\n",
    "\n",
    "    # Check if the file already exists\n",
    "    if os.path.exists(filepath):\n",
    "        response = input(f\"Do you want to remove and overwrite the file \\\"{saved_netCDF_as}\\\" (y/n): \").strip().lower()\n",
    "        if response == 'y':\n",
    "            os.remove(filepath)\n",
    "            print(f\"{filepath} has been removed.\")\n",
    "            print(f\"{saved_netCDF_as}. Proceeding to download.\")\n",
    "        else:\n",
    "            print(\"Download canceled.\")\n",
    "            continue\n",
    "    else:\n",
    "        print(f\"{saved_netCDF_as} does not exist. Proceeding to download.\")\n",
    "    \n",
    "    # Perform the data subset operation\n",
    "    cpm.subset(\n",
    "        dataset_id=dataset_to_extract,\n",
    "        minimum_longitude=min_lon,\n",
    "        maximum_longitude=max_lon,\n",
    "        minimum_latitude=min_lat,\n",
    "        maximum_latitude=max_lat,\n",
    "        start_datetime=start_time,\n",
    "        end_datetime=end_time,\n",
    "        minimum_depth=min_depth,\n",
    "        maximum_depth=max_depth,\n",
    "        output_filename=saved_netCDF_as,\n",
    "        output_directory=satellite_dir\n",
    "    )"
   ]
  }
 ],
 "metadata": {
  "kernelspec": {
   "display_name": "BIOCarbon_Conda_Env",
   "language": "python",
   "name": "python3"
  },
  "language_info": {
   "codemirror_mode": {
    "name": "ipython",
    "version": 3
   },
   "file_extension": ".py",
   "mimetype": "text/x-python",
   "name": "python",
   "nbconvert_exporter": "python",
   "pygments_lexer": "ipython3",
   "version": "3.12.3"
  }
 },
 "nbformat": 4,
 "nbformat_minor": 2
}
