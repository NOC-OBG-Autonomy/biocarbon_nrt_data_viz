{
 "cells": [
  {
   "cell_type": "code",
   "execution_count": 2,
   "metadata": {},
   "outputs": [],
   "source": [
    "import eumdac\n",
    "import datetime\n",
    "import shutil"
   ]
  },
  {
   "cell_type": "code",
   "execution_count": 3,
   "metadata": {},
   "outputs": [
    {
     "name": "stdout",
     "output_type": "stream",
     "text": [
      "This token 'e3b96e4a-cbca-35c4-84ce-4ff85157875c' expires 2024-06-13 16:14:24.768149\n"
     ]
    }
   ],
   "source": [
    "consumer_key = '9dcHtMpRngCEnHBtZX4iOZL7s5Qa'\n",
    "consumer_secret = 'FfJCsfRfPPOThUvOYfBEFkPzxCwa'\n",
    "credentials = (consumer_key, consumer_secret)\n",
    "token = eumdac.AccessToken(credentials)\n",
    "print(f\"This token '{token}' expires {token.expiration}\")"
   ]
  },
  {
   "cell_type": "code",
   "execution_count": 8,
   "metadata": {},
   "outputs": [
    {
     "name": "stdout",
     "output_type": "stream",
     "text": [
      "EO:EUM:DAT:MSG:CLM-IODC\n",
      "EO:EUM:DAT:0394\n",
      "EO:EUM:DAT:0412\n",
      "EO:EUM:DAT:0237\n",
      "EO:EUM:DAT:0241\n",
      "EO:EUM:DAT:0857\n",
      "EO:EUM:DAT:0862\n",
      "EO:EUM:DAT:0882\n",
      "EO:EUM:DAT:METOP:ASCSZF1B\n",
      "EO:EUM:DAT:METOP:ASCSZR1B\n",
      "EO:EUM:DAT:MSG:MSG15-RSS\n",
      "EO:EUM:DAT:0855\n",
      "EO:EUM:DAT:0836\n",
      "EO:EUM:CM:METOP:ASCSZFR02\n",
      "EO:EUM:DAT:0081\n",
      "EO:EUM:DAT:0398\n",
      "EO:EUM:DAT:0405\n",
      "EO:EUM:DAT:0406\n",
      "EO:EUM:DAT:0410\n",
      "EO:EUM:DAT:0413\n",
      "EO:EUM:DAT:0415\n",
      "EO:EUM:DAT:0416\n",
      "EO:EUM:DAT:0239\n",
      "EO:EUM:DAT:0301\n",
      "EO:EUM:DAT:0617\n",
      "EO:EUM:DAT:0880\n",
      "EO:EUM:DAT:0856\n",
      "EO:EUM:DAT:METOP:ASCSZO1B\n",
      "EO:EUM:DAT:METOP:GOMEL1\n",
      "EO:EUM:DAT:0647\n",
      "EO:EUM:DAT:0851\n",
      "EO:EUM:DAT:0835\n",
      "EO:EUM:DAT:0833\n",
      "EO:EUM:DAT:0858\n",
      "EO:EUM:DAT:0859\n",
      "EO:EUM:DAT:0839\n",
      "EO:EUM:DAT:0841\n",
      "EO:EUM:DAT:0834\n",
      "EO:EUM:DAT:0142\n",
      "EO:EUM:DAT:0238\n",
      "EO:EUM:DAT:0374\n",
      "EO:EUM:DAT:0601\n",
      "EO:EUM:DAT:0556\n",
      "EO:EUM:DAT:0557\n",
      "EO:EUM:DAT:0576\n",
      "EO:EUM:DAT:0579\n",
      "EO:EUM:DAT:0581\n",
      "EO:EUM:DAT:0583\n",
      "EO:EUM:DAT:0300\n",
      "EO:EUM:DAT:0407\n",
      "EO:EUM:DAT:0411\n",
      "EO:EUM:DAT:0417\n",
      "EO:EUM:DAT:0274\n",
      "EO:EUM:DAT:0082\n",
      "EO:EUM:DAT:0584\n",
      "EO:EUM:DAT:MULT:HIRSL1\n",
      "EO:EUM:DAT:METOP:GLB-SST-NC\n",
      "EO:EUM:DAT:MSG:CLM\n",
      "EO:EUM:DAT:0302\n",
      "EO:EUM:DAT:0236\n",
      "EO:EUM:DAT:0408\n",
      "EO:EUM:DAT:0409\n",
      "EO:EUM:DAT:0558\n",
      "EO:EUM:DAT:METOP:OSI-150-A\n",
      "EO:EUM:DAT:METOP:OSI-150-B\n",
      "EO:EUM:DAT:MSG:RSS-CLM\n",
      "EO:EUM:DAT:0615\n",
      "EO:EUM:CM:METOP:ASCSZOR02\n",
      "EO:EUM:CM:METOP:ASCSZRR02\n",
      "EO:EUM:DAT:0088\n",
      "EO:EUM:DAT:0143\n",
      "EO:EUM:DAT:0881\n",
      "EO:EUM:DAT:0853\n",
      "EO:EUM:DAT:0854\n",
      "EO:EUM:DAT:METOP:IASIL1C-ALL\n",
      "EO:EUM:DAT:METOP:IASSND02\n",
      "EO:EUM:DAT:0837\n",
      "EO:EUM:DAT:0838\n",
      "EO:EUM:DAT:0840\n",
      "EO:EUM:DAT:0585\n",
      "EO:EUM:DAT:0758\n",
      "EO:EUM:DAT:0080\n",
      "EO:EUM:DAT:0240\n",
      "EO:EUM:DAT:MSG:HRSEVIRI\n",
      "EO:EUM:DAT:METOP:MHSL1\n",
      "EO:EUM:DAT:MSG:HRSEVIRI-IODC\n",
      "EO:EUM:DAT:0850\n",
      "EO:EUM:DAT:0852\n",
      "EO:EUM:DAT:0842\n",
      "EO:EUM:DAT:METOP:LSA-002\n",
      "EO:EUM:DAT:METOP:OSI-104\n",
      "EO:EUM:DAT:METOP:SOMO12\n",
      "EO:EUM:DAT:METOP:SOMO25\n",
      "EO:EUM:DAT:DMSP:OSI-401-B\n",
      "EO:EUM:DAT:0414\n",
      "EO:EUM:DAT:0577\n",
      "EO:EUM:DAT:0578\n",
      "EO:EUM:DAT:0582\n",
      "EO:EUM:DAT:0586\n",
      "EO:EUM:DAT:0533\n",
      "EO:EUM:DAT:0645\n",
      "EO:EUM:DAT:METOP:AMSUL1\n",
      "EO:EUM:DAT:METOP:AVHRRL1\n"
     ]
    }
   ],
   "source": [
    "datastore = eumdac.DataStore(token)\n",
    "for collection in datastore.collections:\n",
    "    print(collection)"
   ]
  },
  {
   "cell_type": "code",
   "execution_count": 9,
   "metadata": {},
   "outputs": [],
   "source": [
    "selected_collection = datastore.get_collection('EO:EUM:DAT:0410')"
   ]
  },
  {
   "cell_type": "code",
   "execution_count": 16,
   "metadata": {},
   "outputs": [
    {
     "name": "stdout",
     "output_type": "stream",
     "text": [
      "Found Datasets: 10 datasets for the given time range\n",
      "S3B_OL_1_ERR____20240610T132506_20240610T140932_20240611T164421_2666_094_067______MAR_O_NT_002.SEN3\n",
      "S3B_OL_1_ERR____20240610T132506_20240610T140932_20240610T154354_2666_094_067______MAR_O_NR_002.SEN3\n",
      "S3A_OL_1_ERR____20240610T122258_20240610T130724_20240611T150204_2666_113_209______MAR_O_NT_002.SEN3\n",
      "S3A_OL_1_ERR____20240610T122258_20240610T130724_20240610T144324_2666_113_209______MAR_O_NR_002.SEN3\n",
      "S3B_OL_1_ERR____20240610T114407_20240610T122833_20240611T150618_2666_094_066______MAR_O_NT_002.SEN3\n",
      "S3B_OL_1_ERR____20240610T114407_20240610T122833_20240610T140538_2666_094_066______MAR_O_NR_002.SEN3\n",
      "S3A_OL_1_ERR____20240610T104159_20240610T112625_20240611T132759_2666_113_208______MAR_O_NT_002.SEN3\n",
      "S3A_OL_1_ERR____20240610T104159_20240610T112625_20240610T130628_2666_113_208______MAR_O_NR_002.SEN3\n",
      "S3B_OL_1_ERR____20240610T100308_20240610T104734_20240611T132212_2666_094_065______MAR_O_NT_002.SEN3\n",
      "S3B_OL_1_ERR____20240610T100308_20240610T104734_20240610T122719_2666_094_065______MAR_O_NR_002.SEN3\n"
     ]
    },
    {
     "ename": "ProtocolError",
     "evalue": "('Connection broken: IncompleteRead(576473727 bytes read, 161279670 more expected)', IncompleteRead(576473727 bytes read, 161279670 more expected))",
     "output_type": "error",
     "traceback": [
      "\u001b[1;31m---------------------------------------------------------------------------\u001b[0m",
      "\u001b[1;31mIncompleteRead\u001b[0m                            Traceback (most recent call last)",
      "File \u001b[1;32m~\\AppData\\Roaming\\Python\\Python312\\site-packages\\urllib3\\response.py:737\u001b[0m, in \u001b[0;36mHTTPResponse._error_catcher\u001b[1;34m(self)\u001b[0m\n\u001b[0;32m    736\u001b[0m \u001b[38;5;28;01mtry\u001b[39;00m:\n\u001b[1;32m--> 737\u001b[0m     \u001b[38;5;28;01myield\u001b[39;00m\n\u001b[0;32m    739\u001b[0m \u001b[38;5;28;01mexcept\u001b[39;00m SocketTimeout \u001b[38;5;28;01mas\u001b[39;00m e:\n\u001b[0;32m    740\u001b[0m     \u001b[38;5;66;03m# FIXME: Ideally we'd like to include the url in the ReadTimeoutError but\u001b[39;00m\n\u001b[0;32m    741\u001b[0m     \u001b[38;5;66;03m# there is yet no clean way to get at it from this context.\u001b[39;00m\n",
      "File \u001b[1;32m~\\AppData\\Roaming\\Python\\Python312\\site-packages\\urllib3\\response.py:883\u001b[0m, in \u001b[0;36mHTTPResponse._raw_read\u001b[1;34m(self, amt, read1)\u001b[0m\n\u001b[0;32m    873\u001b[0m     \u001b[38;5;28;01mif\u001b[39;00m (\n\u001b[0;32m    874\u001b[0m         \u001b[38;5;28mself\u001b[39m\u001b[38;5;241m.\u001b[39menforce_content_length\n\u001b[0;32m    875\u001b[0m         \u001b[38;5;129;01mand\u001b[39;00m \u001b[38;5;28mself\u001b[39m\u001b[38;5;241m.\u001b[39mlength_remaining \u001b[38;5;129;01mis\u001b[39;00m \u001b[38;5;129;01mnot\u001b[39;00m \u001b[38;5;28;01mNone\u001b[39;00m\n\u001b[1;32m   (...)\u001b[0m\n\u001b[0;32m    881\u001b[0m         \u001b[38;5;66;03m# raised during streaming, so all calls with incorrect\u001b[39;00m\n\u001b[0;32m    882\u001b[0m         \u001b[38;5;66;03m# Content-Length are caught.\u001b[39;00m\n\u001b[1;32m--> 883\u001b[0m         \u001b[38;5;28;01mraise\u001b[39;00m IncompleteRead(\u001b[38;5;28mself\u001b[39m\u001b[38;5;241m.\u001b[39m_fp_bytes_read, \u001b[38;5;28mself\u001b[39m\u001b[38;5;241m.\u001b[39mlength_remaining)\n\u001b[0;32m    884\u001b[0m \u001b[38;5;28;01melif\u001b[39;00m read1 \u001b[38;5;129;01mand\u001b[39;00m (\n\u001b[0;32m    885\u001b[0m     (amt \u001b[38;5;241m!=\u001b[39m \u001b[38;5;241m0\u001b[39m \u001b[38;5;129;01mand\u001b[39;00m \u001b[38;5;129;01mnot\u001b[39;00m data) \u001b[38;5;129;01mor\u001b[39;00m \u001b[38;5;28mself\u001b[39m\u001b[38;5;241m.\u001b[39mlength_remaining \u001b[38;5;241m==\u001b[39m \u001b[38;5;28mlen\u001b[39m(data)\n\u001b[0;32m    886\u001b[0m ):\n\u001b[1;32m   (...)\u001b[0m\n\u001b[0;32m    889\u001b[0m     \u001b[38;5;66;03m# `http.client.HTTPResponse`, so we close it here.\u001b[39;00m\n\u001b[0;32m    890\u001b[0m     \u001b[38;5;66;03m# See https://github.com/python/cpython/issues/113199\u001b[39;00m\n",
      "\u001b[1;31mIncompleteRead\u001b[0m: IncompleteRead(576473727 bytes read, 161279670 more expected)",
      "\nThe above exception was the direct cause of the following exception:\n",
      "\u001b[1;31mProtocolError\u001b[0m                             Traceback (most recent call last)",
      "Cell \u001b[1;32mIn[16], line 25\u001b[0m\n\u001b[0;32m     22\u001b[0m \u001b[38;5;28;01mfor\u001b[39;00m product \u001b[38;5;129;01min\u001b[39;00m products:\n\u001b[0;32m     23\u001b[0m     \u001b[38;5;28;01mwith\u001b[39;00m product\u001b[38;5;241m.\u001b[39mopen() \u001b[38;5;28;01mas\u001b[39;00m fsrc, \\\n\u001b[0;32m     24\u001b[0m         \u001b[38;5;28mopen\u001b[39m(fsrc\u001b[38;5;241m.\u001b[39mname, mode\u001b[38;5;241m=\u001b[39m\u001b[38;5;124m'\u001b[39m\u001b[38;5;124mwb\u001b[39m\u001b[38;5;124m'\u001b[39m) \u001b[38;5;28;01mas\u001b[39;00m fdst:\n\u001b[1;32m---> 25\u001b[0m         \u001b[43mshutil\u001b[49m\u001b[38;5;241;43m.\u001b[39;49m\u001b[43mcopyfileobj\u001b[49m\u001b[43m(\u001b[49m\u001b[43mfsrc\u001b[49m\u001b[43m,\u001b[49m\u001b[43m \u001b[49m\u001b[43mfdst\u001b[49m\u001b[43m)\u001b[49m\n\u001b[0;32m     26\u001b[0m         \u001b[38;5;28mprint\u001b[39m(\u001b[38;5;124mf\u001b[39m\u001b[38;5;124m'\u001b[39m\u001b[38;5;124mDownload of product \u001b[39m\u001b[38;5;132;01m{\u001b[39;00mproduct\u001b[38;5;132;01m}\u001b[39;00m\u001b[38;5;124m finished.\u001b[39m\u001b[38;5;124m'\u001b[39m)\n\u001b[0;32m     27\u001b[0m     \u001b[38;5;28mprint\u001b[39m(\u001b[38;5;124m'\u001b[39m\u001b[38;5;124mAll downloads are finished.\u001b[39m\u001b[38;5;124m'\u001b[39m)\n",
      "File \u001b[1;32mc:\\Users\\hanshil\\.conda\\envs\\BIOCarbon_Conda_Env\\Lib\\shutil.py:203\u001b[0m, in \u001b[0;36mcopyfileobj\u001b[1;34m(fsrc, fdst, length)\u001b[0m\n\u001b[0;32m    201\u001b[0m fsrc_read \u001b[38;5;241m=\u001b[39m fsrc\u001b[38;5;241m.\u001b[39mread\n\u001b[0;32m    202\u001b[0m fdst_write \u001b[38;5;241m=\u001b[39m fdst\u001b[38;5;241m.\u001b[39mwrite\n\u001b[1;32m--> 203\u001b[0m \u001b[38;5;28;01mwhile\u001b[39;00m buf \u001b[38;5;241m:=\u001b[39m \u001b[43mfsrc_read\u001b[49m\u001b[43m(\u001b[49m\u001b[43mlength\u001b[49m\u001b[43m)\u001b[49m:\n\u001b[0;32m    204\u001b[0m     fdst_write(buf)\n",
      "File \u001b[1;32m~\\AppData\\Roaming\\Python\\Python312\\site-packages\\urllib3\\response.py:963\u001b[0m, in \u001b[0;36mHTTPResponse.read\u001b[1;34m(self, amt, decode_content, cache_content)\u001b[0m\n\u001b[0;32m    957\u001b[0m \u001b[38;5;28mself\u001b[39m\u001b[38;5;241m.\u001b[39m_decoded_buffer\u001b[38;5;241m.\u001b[39mput(decoded_data)\n\u001b[0;32m    959\u001b[0m \u001b[38;5;28;01mwhile\u001b[39;00m \u001b[38;5;28mlen\u001b[39m(\u001b[38;5;28mself\u001b[39m\u001b[38;5;241m.\u001b[39m_decoded_buffer) \u001b[38;5;241m<\u001b[39m amt \u001b[38;5;129;01mand\u001b[39;00m data:\n\u001b[0;32m    960\u001b[0m     \u001b[38;5;66;03m# TODO make sure to initially read enough data to get past the headers\u001b[39;00m\n\u001b[0;32m    961\u001b[0m     \u001b[38;5;66;03m# For example, the GZ file header takes 10 bytes, we don't want to read\u001b[39;00m\n\u001b[0;32m    962\u001b[0m     \u001b[38;5;66;03m# it one byte at a time\u001b[39;00m\n\u001b[1;32m--> 963\u001b[0m     data \u001b[38;5;241m=\u001b[39m \u001b[38;5;28;43mself\u001b[39;49m\u001b[38;5;241;43m.\u001b[39;49m\u001b[43m_raw_read\u001b[49m\u001b[43m(\u001b[49m\u001b[43mamt\u001b[49m\u001b[43m)\u001b[49m\n\u001b[0;32m    964\u001b[0m     decoded_data \u001b[38;5;241m=\u001b[39m \u001b[38;5;28mself\u001b[39m\u001b[38;5;241m.\u001b[39m_decode(data, decode_content, flush_decoder)\n\u001b[0;32m    965\u001b[0m     \u001b[38;5;28mself\u001b[39m\u001b[38;5;241m.\u001b[39m_decoded_buffer\u001b[38;5;241m.\u001b[39mput(decoded_data)\n",
      "File \u001b[1;32m~\\AppData\\Roaming\\Python\\Python312\\site-packages\\urllib3\\response.py:861\u001b[0m, in \u001b[0;36mHTTPResponse._raw_read\u001b[1;34m(self, amt, read1)\u001b[0m\n\u001b[0;32m    857\u001b[0m     \u001b[38;5;28;01mreturn\u001b[39;00m \u001b[38;5;28;01mNone\u001b[39;00m  \u001b[38;5;66;03m# type: ignore[return-value]\u001b[39;00m\n\u001b[0;32m    859\u001b[0m fp_closed \u001b[38;5;241m=\u001b[39m \u001b[38;5;28mgetattr\u001b[39m(\u001b[38;5;28mself\u001b[39m\u001b[38;5;241m.\u001b[39m_fp, \u001b[38;5;124m\"\u001b[39m\u001b[38;5;124mclosed\u001b[39m\u001b[38;5;124m\"\u001b[39m, \u001b[38;5;28;01mFalse\u001b[39;00m)\n\u001b[1;32m--> 861\u001b[0m \u001b[43m\u001b[49m\u001b[38;5;28;43;01mwith\u001b[39;49;00m\u001b[43m \u001b[49m\u001b[38;5;28;43mself\u001b[39;49m\u001b[38;5;241;43m.\u001b[39;49m\u001b[43m_error_catcher\u001b[49m\u001b[43m(\u001b[49m\u001b[43m)\u001b[49m\u001b[43m:\u001b[49m\n\u001b[0;32m    862\u001b[0m \u001b[43m    \u001b[49m\u001b[43mdata\u001b[49m\u001b[43m \u001b[49m\u001b[38;5;241;43m=\u001b[39;49m\u001b[43m \u001b[49m\u001b[38;5;28;43mself\u001b[39;49m\u001b[38;5;241;43m.\u001b[39;49m\u001b[43m_fp_read\u001b[49m\u001b[43m(\u001b[49m\u001b[43mamt\u001b[49m\u001b[43m,\u001b[49m\u001b[43m \u001b[49m\u001b[43mread1\u001b[49m\u001b[38;5;241;43m=\u001b[39;49m\u001b[43mread1\u001b[49m\u001b[43m)\u001b[49m\u001b[43m \u001b[49m\u001b[38;5;28;43;01mif\u001b[39;49;00m\u001b[43m \u001b[49m\u001b[38;5;129;43;01mnot\u001b[39;49;00m\u001b[43m \u001b[49m\u001b[43mfp_closed\u001b[49m\u001b[43m \u001b[49m\u001b[38;5;28;43;01melse\u001b[39;49;00m\u001b[43m \u001b[49m\u001b[38;5;124;43mb\u001b[39;49m\u001b[38;5;124;43m\"\u001b[39;49m\u001b[38;5;124;43m\"\u001b[39;49m\n\u001b[0;32m    863\u001b[0m \u001b[43m    \u001b[49m\u001b[38;5;28;43;01mif\u001b[39;49;00m\u001b[43m \u001b[49m\u001b[43mamt\u001b[49m\u001b[43m \u001b[49m\u001b[38;5;129;43;01mis\u001b[39;49;00m\u001b[43m \u001b[49m\u001b[38;5;129;43;01mnot\u001b[39;49;00m\u001b[43m \u001b[49m\u001b[38;5;28;43;01mNone\u001b[39;49;00m\u001b[43m \u001b[49m\u001b[38;5;129;43;01mand\u001b[39;49;00m\u001b[43m \u001b[49m\u001b[43mamt\u001b[49m\u001b[43m \u001b[49m\u001b[38;5;241;43m!=\u001b[39;49m\u001b[43m \u001b[49m\u001b[38;5;241;43m0\u001b[39;49m\u001b[43m \u001b[49m\u001b[38;5;129;43;01mand\u001b[39;49;00m\u001b[43m \u001b[49m\u001b[38;5;129;43;01mnot\u001b[39;49;00m\u001b[43m \u001b[49m\u001b[43mdata\u001b[49m\u001b[43m:\u001b[49m\n\u001b[0;32m    864\u001b[0m \u001b[43m        \u001b[49m\u001b[38;5;66;43;03m# Platform-specific: Buggy versions of Python.\u001b[39;49;00m\n\u001b[0;32m    865\u001b[0m \u001b[43m        \u001b[49m\u001b[38;5;66;43;03m# Close the connection when no data is returned\u001b[39;49;00m\n\u001b[1;32m   (...)\u001b[0m\n\u001b[0;32m    870\u001b[0m \u001b[43m        \u001b[49m\u001b[38;5;66;43;03m# not properly close the connection in all cases. There is\u001b[39;49;00m\n\u001b[0;32m    871\u001b[0m \u001b[43m        \u001b[49m\u001b[38;5;66;43;03m# no harm in redundantly calling close.\u001b[39;49;00m\n",
      "File \u001b[1;32mc:\\Users\\hanshil\\.conda\\envs\\BIOCarbon_Conda_Env\\Lib\\contextlib.py:158\u001b[0m, in \u001b[0;36m_GeneratorContextManager.__exit__\u001b[1;34m(self, typ, value, traceback)\u001b[0m\n\u001b[0;32m    156\u001b[0m     value \u001b[38;5;241m=\u001b[39m typ()\n\u001b[0;32m    157\u001b[0m \u001b[38;5;28;01mtry\u001b[39;00m:\n\u001b[1;32m--> 158\u001b[0m     \u001b[38;5;28;43mself\u001b[39;49m\u001b[38;5;241;43m.\u001b[39;49m\u001b[43mgen\u001b[49m\u001b[38;5;241;43m.\u001b[39;49m\u001b[43mthrow\u001b[49m\u001b[43m(\u001b[49m\u001b[43mvalue\u001b[49m\u001b[43m)\u001b[49m\n\u001b[0;32m    159\u001b[0m \u001b[38;5;28;01mexcept\u001b[39;00m \u001b[38;5;167;01mStopIteration\u001b[39;00m \u001b[38;5;28;01mas\u001b[39;00m exc:\n\u001b[0;32m    160\u001b[0m     \u001b[38;5;66;03m# Suppress StopIteration *unless* it's the same exception that\u001b[39;00m\n\u001b[0;32m    161\u001b[0m     \u001b[38;5;66;03m# was passed to throw().  This prevents a StopIteration\u001b[39;00m\n\u001b[0;32m    162\u001b[0m     \u001b[38;5;66;03m# raised inside the \"with\" statement from being suppressed.\u001b[39;00m\n\u001b[0;32m    163\u001b[0m     \u001b[38;5;28;01mreturn\u001b[39;00m exc \u001b[38;5;129;01mis\u001b[39;00m \u001b[38;5;129;01mnot\u001b[39;00m value\n",
      "File \u001b[1;32m~\\AppData\\Roaming\\Python\\Python312\\site-packages\\urllib3\\response.py:761\u001b[0m, in \u001b[0;36mHTTPResponse._error_catcher\u001b[1;34m(self)\u001b[0m\n\u001b[0;32m    759\u001b[0m     \u001b[38;5;28;01melse\u001b[39;00m:\n\u001b[0;32m    760\u001b[0m         arg \u001b[38;5;241m=\u001b[39m \u001b[38;5;124mf\u001b[39m\u001b[38;5;124m\"\u001b[39m\u001b[38;5;124mConnection broken: \u001b[39m\u001b[38;5;132;01m{\u001b[39;00me\u001b[38;5;132;01m!r}\u001b[39;00m\u001b[38;5;124m\"\u001b[39m\n\u001b[1;32m--> 761\u001b[0m     \u001b[38;5;28;01mraise\u001b[39;00m ProtocolError(arg, e) \u001b[38;5;28;01mfrom\u001b[39;00m \u001b[38;5;21;01me\u001b[39;00m\n\u001b[0;32m    763\u001b[0m \u001b[38;5;28;01mexcept\u001b[39;00m (HTTPException, \u001b[38;5;167;01mOSError\u001b[39;00m) \u001b[38;5;28;01mas\u001b[39;00m e:\n\u001b[0;32m    764\u001b[0m     \u001b[38;5;28;01mraise\u001b[39;00m ProtocolError(\u001b[38;5;124mf\u001b[39m\u001b[38;5;124m\"\u001b[39m\u001b[38;5;124mConnection broken: \u001b[39m\u001b[38;5;132;01m{\u001b[39;00me\u001b[38;5;132;01m!r}\u001b[39;00m\u001b[38;5;124m\"\u001b[39m, e) \u001b[38;5;28;01mfrom\u001b[39;00m \u001b[38;5;21;01me\u001b[39;00m\n",
      "\u001b[1;31mProtocolError\u001b[0m: ('Connection broken: IncompleteRead(576473727 bytes read, 161279670 more expected)', IncompleteRead(576473727 bytes read, 161279670 more expected))"
     ]
    }
   ],
   "source": [
    "# Add vertices for polygon, wrapping back to the start point.\n",
    "\n",
    "min_lon = -35\n",
    "max_lon = -5\n",
    "min_lat = 55\n",
    "max_lat = 66\n",
    "\n",
    "geometry = [[min_lon, min_lat],[min_lon, max_lat],[max_lon, max_lat],[max_lon, min_lat],[min_lon, min_lat]]\n",
    "# Set sensing start and end time\n",
    "start = datetime.datetime(2024, 6, 10)\n",
    "end = datetime.datetime(2024, 6, 11)\n",
    "# Retrieve datasets that match our filter\n",
    "products = selected_collection.search(\n",
    "    geo='POLYGON(({}))'.format(','.join([\"{} {}\".format(*coord) for coord in geometry])),\n",
    "    dtstart=start, \n",
    "    dtend=end)\n",
    "    \n",
    "print(f'Found Datasets: {products.total_results} datasets for the given time range')\n",
    "for product in products:\n",
    "    print(str(product))\n",
    "\n",
    "for product in products:\n",
    "    with product.open() as fsrc, \\\n",
    "        open(fsrc.name, mode='wb') as fdst:\n",
    "        shutil.copyfileobj(fsrc, fdst)\n",
    "        print(f'Download of product {product} finished.')\n",
    "    print('All downloads are finished.')"
   ]
  }
 ],
 "metadata": {
  "kernelspec": {
   "display_name": "BIOCarbon_Conda_Env",
   "language": "python",
   "name": "python3"
  },
  "language_info": {
   "codemirror_mode": {
    "name": "ipython",
    "version": 3
   },
   "file_extension": ".py",
   "mimetype": "text/x-python",
   "name": "python",
   "nbconvert_exporter": "python",
   "pygments_lexer": "ipython3",
   "version": "3.12.3"
  }
 },
 "nbformat": 4,
 "nbformat_minor": 2
}
