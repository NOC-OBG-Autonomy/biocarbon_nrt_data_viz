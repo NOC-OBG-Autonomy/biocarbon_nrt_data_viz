{
 "cells": [
  {
   "cell_type": "code",
   "execution_count": 14,
   "metadata": {},
   "outputs": [],
   "source": [
    "import pandas as pd\n",
    "import matplotlib.pyplot as plt\n",
    "import os\n",
    "import cartopy.crs as ccrs\n",
    "from cartopy.mpl.gridliner import LATITUDE_FORMATTER, LONGITUDE_FORMATTER\n",
    "from matplotlib_scalebar.scalebar import ScaleBar\n",
    "from tqdm import tqdm\n",
    "import numpy as np\n",
    "from datetime import datetime"
   ]
  },
  {
   "cell_type": "code",
   "execution_count": 2,
   "metadata": {},
   "outputs": [],
   "source": [
    "# Establish directory locations\n",
    "\n",
    "parent_dir    = os.path.abspath(os.path.join(os.getcwd(), os.pardir))\n",
    "data_dir      = os.path.join(parent_dir, 'data')\n",
    "satellite_dir = os.path.join(data_dir, 'satellite')\n",
    "output_dir    = os.path.join(parent_dir, 'Output')\n",
    "pos_data_dir  = os.path.join(parent_dir, 'Plotting_tools/shared_data')"
   ]
  },
  {
   "cell_type": "code",
   "execution_count": 3,
   "metadata": {},
   "outputs": [],
   "source": [
    "all_positions = pd.read_csv(os.path.join(pos_data_dir, 'rt_positions.csv'))\n",
    "all_positions['datetime'] = pd.to_datetime(all_positions['date'])"
   ]
  },
  {
   "cell_type": "code",
   "execution_count": 4,
   "metadata": {},
   "outputs": [],
   "source": [
    "lovuse31 = all_positions[all_positions['platform_id'] == 'lovuse031c']"
   ]
  },
  {
   "cell_type": "code",
   "execution_count": 5,
   "metadata": {},
   "outputs": [],
   "source": [
    "platform_mask = {\n",
    "        'Ship':  'x',\n",
    "        'glider': '^',\n",
    "        'Float':  'o',\n",
    "        'respire': '>'}\n",
    "\n",
    "platform_colors = {\n",
    "        'Discovery':  'black',\n",
    "        'unit_405': '#b2182b',\n",
    "        'unit_397':  '#f4a582',\n",
    "        'unit_398': '#d6604d',\n",
    "        'unit_345': '#fddbc7',\n",
    "        'lovuse031c': '#92c5de',\n",
    "        'lovuse032c': '#4393c3',\n",
    "        'lovuse026d': '#2166ac',\n",
    "        'respire': '#b8e186'}\n",
    "\n",
    "def get_color(platform_id):\n",
    "    return platform_colors.get(platform_id, 'black')\n",
    "\n",
    "all_positions['color'] = all_positions['platform_id'].apply(get_color)"
   ]
  },
  {
   "cell_type": "code",
   "execution_count": 6,
   "metadata": {},
   "outputs": [],
   "source": [
    "autonomy_positions = all_positions[all_positions['platform_type'].isin(['glider', 'Float'])]"
   ]
  },
  {
   "cell_type": "code",
   "execution_count": 7,
   "metadata": {},
   "outputs": [],
   "source": [
    "max_lon = autonomy_positions['lon'].max() + 0.05\n",
    "min_lon = autonomy_positions['lon'].min() - 0.05\n",
    "max_lat = autonomy_positions['lat'].max() + 0.05\n",
    "min_lat = autonomy_positions['lat'].min() - 0.05\n"
   ]
  },
  {
   "cell_type": "code",
   "execution_count": 8,
   "metadata": {},
   "outputs": [],
   "source": [
    "positions = all_positions.loc[all_positions.groupby('platform_id')['date'].idxmax()]"
   ]
  },
  {
   "cell_type": "code",
   "execution_count": 9,
   "metadata": {},
   "outputs": [],
   "source": [
    "\n",
    "current_time = datetime.now()\n",
    "now = current_time.strftime(format = '%Y-%m-%d %H:%M:%S')"
   ]
  },
  {
   "cell_type": "code",
   "execution_count": 10,
   "metadata": {},
   "outputs": [],
   "source": [
    "positions_from_start = all_positions[all_positions['datetime'] > pd.to_datetime('2024-06-03 05:00:01')]"
   ]
  },
  {
   "cell_type": "code",
   "execution_count": 11,
   "metadata": {},
   "outputs": [],
   "source": [
    "floats_positions = all_positions[all_positions['platform_type'] == 'Float']"
   ]
  },
  {
   "cell_type": "code",
   "execution_count": 12,
   "metadata": {},
   "outputs": [],
   "source": [
    "dates_of_gliders = positions_from_start[positions_from_start['platform_type'].isin(['glider', 'Float'])]['date'].unique()"
   ]
  },
  {
   "cell_type": "code",
   "execution_count": 15,
   "metadata": {},
   "outputs": [
    {
     "name": "stderr",
     "output_type": "stream",
     "text": [
      "C:\\Users\\flapet\\AppData\\Local\\Temp\\ipykernel_10848\\662352737.py:2: DeprecationWarning: datetime.datetime.utcfromtimestamp() is deprecated and scheduled for removal in a future version. Use timezone-aware objects to represent datetimes in UTC: datetime.datetime.fromtimestamp(timestamp, datetime.UTC).\n",
      "  current['datetime'] = current['timestamp'].apply(lambda x: datetime.utcfromtimestamp(x / 1000))\n"
     ]
    }
   ],
   "source": [
    "current = pd.read_csv(os.path.join(data_dir, 'Gliders/current.csv'))\n",
    "current['datetime'] = current['timestamp'].apply(lambda x: datetime.utcfromtimestamp(x / 1000))\n",
    "current_position = current[current['variable'].isin(['m_lon', 'm_lat'])]\n",
    "current_x = current[current['variable'] == 'm_water_vx']\n",
    "current_y = current[current['variable'] == 'm_water_vy']\n",
    "current_position = current_position.pivot_table(index='datetime', columns='variable', values='value').reset_index()\n",
    "current_x =  current_x.pivot_table(index='datetime', columns='variable', values='value').reset_index()\n",
    "current_y =  current_y.pivot_table(index='datetime', columns='variable', values='value').reset_index()\n",
    "\n",
    "\n",
    "# Ensure both DataFrames are sorted by the datetime column\n",
    "current_position = current_position.sort_values('datetime')\n",
    "current_x = current_x.sort_values('datetime')\n",
    "current_y = current_y.sort_values('datetime')\n",
    "\n",
    "\n",
    "# Perform the asof merge\n",
    "merged_df = pd.merge_asof(current_x, current_y, on='datetime', direction='nearest')\n",
    "merged_df = pd.merge_asof(merged_df, current_position, on='datetime', direction='nearest')"
   ]
  },
  {
   "cell_type": "code",
   "execution_count": 17,
   "metadata": {},
   "outputs": [
    {
     "name": "stderr",
     "output_type": "stream",
     "text": [
      "100%|██████████| 10/10 [00:08<00:00,  1.12it/s]\n"
     ]
    }
   ],
   "source": [
    "for i in tqdm(dates_of_gliders):\n",
    "    temp = all_positions[all_positions['datetime']<= pd.to_datetime(i)]\n",
    "    temp = temp.loc[temp.groupby('platform_id')['datetime'].idxmax()]\n",
    "    datename = i.replace(\" \", \"_\").replace(\":\", \"\").replace(\"-\", \"\")\n",
    "    filename = parent_dir + '/Output/Plots/rt_tracking/rt_tracking_' + datename + '.png'\n",
    "\n",
    "    temp_current = merged_df[merged_df['datetime']<= pd.to_datetime(i)]\n",
    "    x = temp_current['m_lon']\n",
    "    y = temp_current['m_lat']\n",
    "    u = temp_current['m_water_vx']\n",
    "    v = temp_current['m_water_vy']\n",
    "\n",
    "    speed = np.sqrt(u**2 + v**2)\n",
    "\n",
    "\n",
    "    fig = plt.figure(figsize=(10,10))\n",
    "    ax = fig.add_subplot(1, 1, 1, projection=ccrs.Mercator())\n",
    "\n",
    "                        # Set the map extent based on your latitude and longitude ranges\n",
    "    ax.set_extent([min_lon, max_lon, min_lat, max_lat], crs=ccrs.PlateCarree())\n",
    "\n",
    "\n",
    "    for platform_type, mask in platform_mask.items():\n",
    "        subset = temp[temp['platform_type'] == platform_type]\n",
    "        for platform_id, color in platform_colors.items():\n",
    "            sub_subset = subset[subset['platform_id'] == platform_id]\n",
    "            if not sub_subset.empty:\n",
    "                ax.scatter(sub_subset['lon'], sub_subset['lat'], c=color, label=platform_id, marker=mask, s=100, transform=ccrs.PlateCarree())\n",
    "                for index, row in sub_subset.iterrows():\n",
    "                    ax.annotate(str(row['date']), (row['lon'], row['lat']), transform=ccrs.PlateCarree())\n",
    "\n",
    "    ax.scatter(-24, 60, label = 'Station 1', marker = 'X', c = 'Black', transform = ccrs.PlateCarree(), s = 200)\n",
    "    im = ax.quiver(x, y, u, v, speed, angles='xy', scale_units='xy', cmap='viridis', transform=ccrs.PlateCarree(), width = 0.002)\n",
    "\n",
    "\n",
    "    # Add a scale bar\n",
    "    ax.add_artist(ScaleBar(1, location = \"lower left\"))\n",
    "\n",
    "    # Add gridlines and labels\n",
    "    gl = ax.gridlines(draw_labels=True)\n",
    "    gl.xformatter = LONGITUDE_FORMATTER\n",
    "    gl.yformatter = LATITUDE_FORMATTER\n",
    "    gl.xlabel_style = {'size': 10}\n",
    "    gl.ylabel_style = {'size': 10}\n",
    "    gl.top_labels=False   # suppress top labels\n",
    "    gl.right_labels=False # suppress right labels\n",
    "\n",
    "    plt.xlabel('Longitude')\n",
    "    plt.ylabel('Latitude')\n",
    "    plt.title(f'Platform Positions \\n {i}')\n",
    "    # Shink current axis by 20%\n",
    "    box = ax.get_position()\n",
    "    ax.set_position([box.x0, box.y0, box.width * 0.8, box.height])\n",
    "    plt.legend(title='Platform ID', bbox_to_anchor=(1.05, 1), borderaxespad=0., loc='upper left')  # Adjust the coordinates as needed\n",
    "\n",
    "    plt.savefig(filename)\n",
    "    plt.close()\n"
   ]
  },
  {
   "cell_type": "code",
   "execution_count": null,
   "metadata": {},
   "outputs": [],
   "source": [
    "    \"\"\"\n",
    "current = pd.read_csv(os.path.join(data_dir, 'Gliders/current.csv'))\n",
    "current['datetime'] = current['timestamp'].apply(lambda x: datetime.utcfromtimestamp(x / 1000))\n",
    "current_position = current[current['variable'].isin(['m_lon', 'm_lat'])]\n",
    "current_x = current[current['variable'] == 'm_water_vx']\n",
    "current_y = current[current['variable'] == 'm_water_vy']\n",
    "current_position = current_position.pivot_table(index='datetime', columns='variable', values='value').reset_index()\n",
    "current_x =  current_x.pivot_table(index='datetime', columns='variable', values='value').reset_index()\n",
    "current_y =  current_y.pivot_table(index='datetime', columns='variable', values='value').reset_index()\n",
    "\n",
    "\n",
    "# Ensure both DataFrames are sorted by the datetime column\n",
    "current_position = current_position.sort_values('datetime')\n",
    "current_x = current_x.sort_values('datetime')\n",
    "current_y = current_y.sort_values('datetime')\n",
    "\n",
    "\n",
    "# Perform the asof merge\n",
    "merged_df = pd.merge_asof(current_x, current_y, on='datetime', direction='nearest')\n",
    "merged_df = pd.merge_asof(merged_df, current_position, on='datetime', direction='nearest')\n",
    "\n",
    "x = merged_df['m_lon']\n",
    "y = merged_df['m_lat']\n",
    "u = merged_df['m_water_vx']\n",
    "v = merged_df['m_water_vy']\n",
    "\n",
    "speed = np.sqrt(u**2 + v**2)\n",
    "    x = merged_df['m_lon']\n",
    "y = merged_df['m_lat']\n",
    "u = merged_df['m_water_vx']\n",
    "v = merged_df['m_water_vy']\n",
    "\n",
    "speed = np.sqrt(u**2 + v**2)\n",
    "\n",
    "fig = plt.figure(figsize=(10,10))\n",
    "ax = fig.add_subplot(1, 1, 1, projection=ccrs.Mercator())\n",
    "ax.set_extent([min_lon, max_lon, min_lat, max_lat], crs=ccrs.PlateCarree())\n",
    "\n",
    "im = ax.quiver(x, y, u, v, speed, angles='xy', scale_units='xy', cmap='viridis', transform=ccrs.PlateCarree(), regrid_shape=50, width = 0.002)\n",
    "plt.show()\n",
    "    \"\"\""
   ]
  }
 ],
 "metadata": {
  "kernelspec": {
   "display_name": "nrt_env",
   "language": "python",
   "name": "python3"
  },
  "language_info": {
   "codemirror_mode": {
    "name": "ipython",
    "version": 3
   },
   "file_extension": ".py",
   "mimetype": "text/x-python",
   "name": "python",
   "nbconvert_exporter": "python",
   "pygments_lexer": "ipython3",
   "version": "3.12.2"
  }
 },
 "nbformat": 4,
 "nbformat_minor": 2
}
