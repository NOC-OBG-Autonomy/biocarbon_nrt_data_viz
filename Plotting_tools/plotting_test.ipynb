{
 "cells": [
  {
   "cell_type": "code",
   "execution_count": 13,
   "metadata": {},
   "outputs": [],
   "source": [
    "import pandas as pd\n",
    "import matplotlib.pyplot as plot\n",
    "import numpy as np\n",
    "import requests\n",
    "import plotting_functions"
   ]
  },
  {
   "cell_type": "code",
   "execution_count": 3,
   "metadata": {},
   "outputs": [],
   "source": [
    "import os"
   ]
  },
  {
   "cell_type": "code",
   "execution_count": 4,
   "metadata": {},
   "outputs": [],
   "source": [
    "import yaml\n",
    " \n",
    "config_link = open('config.yml', 'r')\n",
    "config = yaml.safe_load(config_link)\n"
   ]
  },
  {
   "cell_type": "code",
   "execution_count": 14,
   "metadata": {},
   "outputs": [
    {
     "name": "stdout",
     "output_type": "stream",
     "text": [
      "'data' folder already exists in the parent directory.\n",
      "'floats' directory already exists inside 'data' folder.\n",
      "'gliders' directory already exists inside 'data' folder.\n"
     ]
    },
    {
     "ename": "NameError",
     "evalue": "name 'requests' is not defined",
     "output_type": "error",
     "traceback": [
      "\u001b[1;31m---------------------------------------------------------------------------\u001b[0m",
      "\u001b[1;31mNameError\u001b[0m                                 Traceback (most recent call last)",
      "Cell \u001b[1;32mIn[14], line 5\u001b[0m\n\u001b[0;32m      2\u001b[0m float_wmo \u001b[38;5;241m=\u001b[39m config[\u001b[38;5;124m'\u001b[39m\u001b[38;5;124mfloats_wmo\u001b[39m\u001b[38;5;124m'\u001b[39m]\n\u001b[0;32m      4\u001b[0m create_missing_directories()\n\u001b[1;32m----> 5\u001b[0m \u001b[43mdownload_float_synth_file\u001b[49m\u001b[43m(\u001b[49m\u001b[38;5;124;43m'\u001b[39;49m\u001b[38;5;124;43mhttps://data-argo.ifremer.fr/argo_synthetic-profile_index.txt\u001b[39;49m\u001b[38;5;124;43m'\u001b[39;49m\u001b[43m,\u001b[49m\u001b[43m \u001b[49m\u001b[38;5;124;43m'\u001b[39;49m\u001b[38;5;124;43mData/Floats/\u001b[39;49m\u001b[38;5;124;43m'\u001b[39;49m\u001b[43m)\u001b[49m\n\u001b[0;32m      9\u001b[0m \u001b[38;5;66;03m#ploat the float traj\u001b[39;00m\n\u001b[0;32m     10\u001b[0m \n\u001b[0;32m     11\u001b[0m \u001b[38;5;66;03m#ploat the float temp\u001b[39;00m\n\u001b[1;32m   (...)\u001b[0m\n\u001b[0;32m     20\u001b[0m \n\u001b[0;32m     21\u001b[0m \u001b[38;5;66;03m#plot the oxygen\u001b[39;00m\n",
      "File \u001b[1;32mc:\\Users\\flapet\\OneDrive - NOC\\Documents\\NRT_viz\\biocarbon_nrt_data_viz\\Plotting_tools\\plotting_functions.py:44\u001b[0m, in \u001b[0;36mdownload_float_synth_file\u001b[1;34m(hostname, data_directory)\u001b[0m\n\u001b[0;32m     37\u001b[0m \u001b[38;5;28;01mdef\u001b[39;00m \u001b[38;5;21mdownload_float_synth_file\u001b[39m(hostname, data_directory):\n\u001b[0;32m     38\u001b[0m \u001b[38;5;250m    \u001b[39m\u001b[38;5;124;03m\"\"\"Download the BGC Argo synthetic file index\u001b[39;00m\n\u001b[0;32m     39\u001b[0m \n\u001b[0;32m     40\u001b[0m \u001b[38;5;124;03m    Args:\u001b[39;00m\n\u001b[0;32m     41\u001b[0m \u001b[38;5;124;03m        hostname (string): The URL of a synth file host (e.g. 'https://data-argo.ifremer.fr/argo_synthetic-profile_index.txt')\u001b[39;00m\n\u001b[0;32m     42\u001b[0m \u001b[38;5;124;03m        data_directory (_type_): The data folder were the 'synth_file.txt' will be written\u001b[39;00m\n\u001b[0;32m     43\u001b[0m \u001b[38;5;124;03m    \"\"\"\u001b[39;00m    \n\u001b[1;32m---> 44\u001b[0m     response \u001b[38;5;241m=\u001b[39m \u001b[43mrequests\u001b[49m\u001b[38;5;241m.\u001b[39mget(hostname, stream\u001b[38;5;241m=\u001b[39m\u001b[38;5;28;01mTrue\u001b[39;00m)\n\u001b[0;32m     46\u001b[0m     Synth_path \u001b[38;5;241m=\u001b[39m data_directory \u001b[38;5;241m+\u001b[39m \u001b[38;5;124m'\u001b[39m\u001b[38;5;124mData/synth_file.txt\u001b[39m\u001b[38;5;124m'\u001b[39m\n\u001b[0;32m     48\u001b[0m     \u001b[38;5;28;01mwith\u001b[39;00m \u001b[38;5;28mopen\u001b[39m(destination, \u001b[38;5;124m\"\u001b[39m\u001b[38;5;124mwb\u001b[39m\u001b[38;5;124m\"\u001b[39m) \u001b[38;5;28;01mas\u001b[39;00m f:\n",
      "\u001b[1;31mNameError\u001b[0m: name 'requests' is not defined"
     ]
    }
   ],
   "source": [
    "#download the float data\n",
    "float_wmo = config['floats_wmo']\n",
    "\n",
    "create_missing_directories()\n",
    "download_float_synth_file('https://data-argo.ifremer.fr/argo_synthetic-profile_index.txt', 'Data/Floats/')\n",
    "\n",
    "\n",
    "\n",
    "#ploat the float traj\n",
    "\n",
    "#ploat the float temp\n",
    "\n",
    "#plot the float sal\n",
    "\n",
    "#plot the mld ts\n",
    "\n",
    "#plot the chla\n",
    "\n",
    "#plot the bbp\n",
    "\n",
    "#plot the oxygen\n",
    "\n"
   ]
  },
  {
   "cell_type": "markdown",
   "metadata": {},
   "source": [
    "Read the Argo float nc and create a dataframe for plotting"
   ]
  },
  {
   "cell_type": "code",
   "execution_count": null,
   "metadata": {},
   "outputs": [],
   "source": [
    "wmo_list = [4903532, 5906213]\n",
    "#Float 1 = test float in the Icelandic Bassin\n",
    "float_1_url = 'https://data-argo.ifremer.fr/dac/aoml/4903532/4903532_Sprof.nc'\n",
    "#Float 2 = test float on Custard with glider next to it\n",
    "float_2_url = 'https://data-argo.ifremer.fr/dac/aoml/5906213/5906213_Sprof.nc'\n",
    "\n",
    "#List the floats\n",
    "floats_url = [float_1_url, float_2_url]\n",
    "\n",
    "#Assign the local float directory\n",
    "parent_dir = os.path.abspath(os.path.join(os.getcwd(), os.pardir))\n",
    "floats_dir =  os.path.join(parent_dir, 'Data/Floats')\n",
    "\n",
    "#Create floats filename\n",
    "floats_filenames = []\n",
    "for i in floats_url:\n",
    "    filename = floats_dir + '/' + i.rsplit('/', 1)[1]\n",
    "    floats_filenames.append(filename)"
   ]
  }
 ],
 "metadata": {
  "kernelspec": {
   "display_name": "nrt_env",
   "language": "python",
   "name": "python3"
  },
  "language_info": {
   "codemirror_mode": {
    "name": "ipython",
    "version": 3
   },
   "file_extension": ".py",
   "mimetype": "text/x-python",
   "name": "python",
   "nbconvert_exporter": "python",
   "pygments_lexer": "ipython3",
   "version": "3.12.2"
  }
 },
 "nbformat": 4,
 "nbformat_minor": 2
}
